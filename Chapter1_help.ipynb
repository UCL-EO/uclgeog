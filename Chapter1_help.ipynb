{
 "cells": [
  {
   "cell_type": "markdown",
   "metadata": {},
   "source": [
    "<html>\n",
    "<table style=\"width:100%\" align=\"center\" border=\"0px white\">\n",
    "<tr></td>\n",
    "<td><a href=\"https://colab.research.google.com/github/profLewis/newform0111/blob/master/notebooks/Chapter1_help.ipynb\">\n",
    "         <img alt=\"Open In Colab\" src=\"https://colab.research.google.com/assets/colab-badge.svg\"\n",
    "         height=70\">\n",
    "</a>\n",
    "<td><a href=\"https://mybinder.org/v2/gh/profLewis/newform0111/master?filepath=notebooks%2FChapter1_help.ipynb\">\n",
    "         <img alt=\"Binder\" src=\"https://mybinder.org/badge_logo.svg\"\n",
    "         height=70\">\n",
    "</a></td>                               \n",
    "<td><a href=\"https://github.com/profLewis/newform0111/blob/master/notebooks/Chapter1_help.ipynb\">\n",
    "         <img alt=\"View in github\" src=\"https://img.shields.io/static/v1?logo=github&label=View%20in&message=github&color=green\"\n",
    "         height=70\">\n",
    "</a></td>    \n",
    "<td><a href=\"https://nbviewer.jupyter.org/github/profLewis/newform0111/blob/master/notebooks/Chapter1_help.ipynb\">\n",
    "         <img alt=\"View in nbviewer\" src=\"https://img.shields.io/static/v1?logo=jupyter&label=View%20in&message=nbviewer&color=blue\"\n",
    "         height=70\">\n",
    "</a></td>    \n",
    "    </tr>\n",
    "    </table>\n",
    "    \n",
    "<img alt=\"UCL\" src=\"../images/ucl_logo.png\">\n",
    "</html>"
   ]
  },
  {
   "cell_type": "markdown",
   "metadata": {},
   "source": [
    "\n",
    "## Help\n",
    "\n",
    "In this session, we will learn how to get useful information on python commands using `help()` and associated methods.\n",
    "\n",
    "We introduce some technical vocabulary:\n",
    "\n",
    "* [list](https://www.w3schools.com/python/python_lists.asp)\n",
    "* [class](https://docs.python.org/3/tutorial/classes.html)\n",
    "* [in place](https://www.geeksforgeeks.org/inplace-vs-standard-operators-python/)\n",
    "* [Completion](#Completion)\n",
    "\n"
   ]
  },
  {
   "cell_type": "markdown",
   "metadata": {
    "hide_input": false
   },
   "source": [
    "### help()\n",
    "\n",
    "You can get help on an object using the `help()` method. This will return a full manual page of the class documentation. You need to gain some experience in reading these."
   ]
  },
  {
   "cell_type": "code",
   "execution_count": 2,
   "metadata": {
    "scrolled": true
   },
   "outputs": [
    {
     "name": "stdout",
     "output_type": "stream",
     "text": [
      "Help on class list in module builtins:\n",
      "\n",
      "class list(object)\n",
      " |  list(iterable=(), /)\n",
      " |  \n",
      " |  Built-in mutable sequence.\n",
      " |  \n",
      " |  If no argument is given, the constructor creates a new empty list.\n",
      " |  The argument must be an iterable if specified.\n",
      " |  \n",
      " |  Methods defined here:\n",
      " |  \n",
      " |  __add__(self, value, /)\n",
      " |      Return self+value.\n",
      " |  \n",
      " |  __contains__(self, key, /)\n",
      " |      Return key in self.\n",
      " |  \n",
      " |  __delitem__(self, key, /)\n",
      " |      Delete self[key].\n",
      " |  \n",
      " |  __eq__(self, value, /)\n",
      " |      Return self==value.\n",
      " |  \n",
      " |  __ge__(self, value, /)\n",
      " |      Return self>=value.\n",
      " |  \n",
      " |  __getattribute__(self, name, /)\n",
      " |      Return getattr(self, name).\n",
      " |  \n",
      " |  __getitem__(...)\n",
      " |      x.__getitem__(y) <==> x[y]\n",
      " |  \n",
      " |  __gt__(self, value, /)\n",
      " |      Return self>value.\n",
      " |  \n",
      " |  __iadd__(self, value, /)\n",
      " |      Implement self+=value.\n",
      " |  \n",
      " |  __imul__(self, value, /)\n",
      " |      Implement self*=value.\n",
      " |  \n",
      " |  __init__(self, /, *args, **kwargs)\n",
      " |      Initialize self.  See help(type(self)) for accurate signature.\n",
      " |  \n",
      " |  __iter__(self, /)\n",
      " |      Implement iter(self).\n",
      " |  \n",
      " |  __le__(self, value, /)\n",
      " |      Return self<=value.\n",
      " |  \n",
      " |  __len__(self, /)\n",
      " |      Return len(self).\n",
      " |  \n",
      " |  __lt__(self, value, /)\n",
      " |      Return self<value.\n",
      " |  \n",
      " |  __mul__(self, value, /)\n",
      " |      Return self*value.\n",
      " |  \n",
      " |  __ne__(self, value, /)\n",
      " |      Return self!=value.\n",
      " |  \n",
      " |  __repr__(self, /)\n",
      " |      Return repr(self).\n",
      " |  \n",
      " |  __reversed__(self, /)\n",
      " |      Return a reverse iterator over the list.\n",
      " |  \n",
      " |  __rmul__(self, value, /)\n",
      " |      Return value*self.\n",
      " |  \n",
      " |  __setitem__(self, key, value, /)\n",
      " |      Set self[key] to value.\n",
      " |  \n",
      " |  __sizeof__(self, /)\n",
      " |      Return the size of the list in memory, in bytes.\n",
      " |  \n",
      " |  append(self, object, /)\n",
      " |      Append object to the end of the list.\n",
      " |  \n",
      " |  clear(self, /)\n",
      " |      Remove all items from list.\n",
      " |  \n",
      " |  copy(self, /)\n",
      " |      Return a shallow copy of the list.\n",
      " |  \n",
      " |  count(self, value, /)\n",
      " |      Return number of occurrences of value.\n",
      " |  \n",
      " |  extend(self, iterable, /)\n",
      " |      Extend list by appending elements from the iterable.\n",
      " |  \n",
      " |  index(self, value, start=0, stop=9223372036854775807, /)\n",
      " |      Return first index of value.\n",
      " |      \n",
      " |      Raises ValueError if the value is not present.\n",
      " |  \n",
      " |  insert(self, index, object, /)\n",
      " |      Insert object before index.\n",
      " |  \n",
      " |  pop(self, index=-1, /)\n",
      " |      Remove and return item at index (default last).\n",
      " |      \n",
      " |      Raises IndexError if list is empty or index is out of range.\n",
      " |  \n",
      " |  remove(self, value, /)\n",
      " |      Remove first occurrence of value.\n",
      " |      \n",
      " |      Raises ValueError if the value is not present.\n",
      " |  \n",
      " |  reverse(self, /)\n",
      " |      Reverse *IN PLACE*.\n",
      " |  \n",
      " |  sort(self, /, *, key=None, reverse=False)\n",
      " |      Sort the list in ascending order and return None.\n",
      " |      \n",
      " |      The sort is in-place (i.e. the list itself is modified) and stable (i.e. the\n",
      " |      order of two equal elements is maintained).\n",
      " |      \n",
      " |      If a key function is given, apply it once to each list item and sort them,\n",
      " |      ascending or descending, according to their function values.\n",
      " |      \n",
      " |      The reverse flag can be set to sort in descending order.\n",
      " |  \n",
      " |  ----------------------------------------------------------------------\n",
      " |  Static methods defined here:\n",
      " |  \n",
      " |  __new__(*args, **kwargs) from builtins.type\n",
      " |      Create and return a new object.  See help(type) for accurate signature.\n",
      " |  \n",
      " |  ----------------------------------------------------------------------\n",
      " |  Data and other attributes defined here:\n",
      " |  \n",
      " |  __hash__ = None\n",
      "\n"
     ]
    }
   ],
   "source": [
    "#the method help()\n",
    "help(list)"
   ]
  },
  {
   "cell_type": "markdown",
   "metadata": {},
   "source": [
    "You need to have some practice in interpreting this sort of information.\n",
    "\n",
    "Scanning the above, we notice for example:\n",
    "\n",
    "* `list` is a class in python\n",
    "* It has some methods such as `append(self, object, /)` and `clear(self, /)`.\n",
    "\n",
    "This tells us that we can create an object instance of a list class:"
   ]
  },
  {
   "cell_type": "code",
   "execution_count": 3,
   "metadata": {
    "scrolled": true
   },
   "outputs": [],
   "source": [
    "alist = [1,2,3]\n",
    "blist = [4,5,6]"
   ]
  },
  {
   "cell_type": "markdown",
   "metadata": {},
   "source": [
    "and apply methods such as `append()` and `clear()` by:"
   ]
  },
  {
   "cell_type": "code",
   "execution_count": 4,
   "metadata": {
    "scrolled": true
   },
   "outputs": [
    {
     "name": "stdout",
     "output_type": "stream",
     "text": [
      "alist = [1, 2, 3, [4, 5, 6]]\n",
      "blist = []\n"
     ]
    }
   ],
   "source": [
    "alist = [1,2,3]\n",
    "blist = [4,5,6]\n",
    "\n",
    "# append blist as the last element of alist\n",
    "alist.append(blist)\n",
    "print('alist =',alist)\n",
    "\n",
    "# clear blist\n",
    "blist.clear()\n",
    "print('blist =',blist)"
   ]
  },
  {
   "cell_type": "markdown",
   "metadata": {},
   "source": [
    "### Exercise: List help\n",
    "\n",
    "* Read through the help information for list, above.\n",
    "* create a list called `alist` and `blist`:\n",
    "\n",
    "        alist = ['one','three','two']\n",
    "        blist = ['four','six','zero']\n",
    "    \n",
    "You can print the lists with:\n",
    "\n",
    "        print(alist,blist)\n",
    "    \n",
    "Using the help information, work out how to:\n",
    "\n",
    "* extend `alist` with `blist` to create `['one','three','two','four','six','zero']`. N.B. This is not quite the same as our use of `append()` above.\n",
    "* sort the new `alist` into **alpabetical order** and print the results\n"
   ]
  },
  {
   "cell_type": "code",
   "execution_count": 5,
   "metadata": {
    "solution2": "hidden",
    "solution2_first": true
   },
   "outputs": [
    {
     "name": "stdout",
     "output_type": "stream",
     "text": [
      "['one', 'three', 'two'] ['four', 'six', 'zero']\n"
     ]
    }
   ],
   "source": [
    "# E1.1.1 list help\n",
    "# do the exercise here \n",
    "alist = ['one','three','two']\n",
    "blist = ['four','six','zero']\n",
    "print(alist,blist)\n",
    "# join\n",
    "\n",
    "# sort\n"
   ]
  },
  {
   "cell_type": "code",
   "execution_count": null,
   "metadata": {
    "scrolled": true,
    "solution2": "hidden"
   },
   "outputs": [],
   "source": [
    "# E1.1.1 list help\n",
    "# ANSWERS\n",
    "alist = ['one','three','two']\n",
    "blist = ['four','six','zero']\n",
    "print(alist,blist)\n",
    "# join\n",
    "alist.extend(blist)\n",
    "print(\"extended\",alist)\n",
    "# sort\n",
    "alist.sort()\n",
    "print(\"sorted\",alist)"
   ]
  },
  {
   "cell_type": "markdown",
   "metadata": {},
   "source": [
    "You may have noticed that it mentions [`IN PLACE`](https://www.geeksforgeeks.org/inplace-vs-standard-operators-python/) in the help information. This means that the operation affects the contents of the variable. So, a standard operation would be e.g.:\n",
    "\n",
    "    alist = ['one','three','two']\n",
    "    blist = ['four','six','zero']\n",
    "\n",
    "    c = alist + blist\n",
    "    print(alist)\n",
    "    \n",
    "where the results from the `+` operation is returned, and the contents of `c` set to this."
   ]
  },
  {
   "cell_type": "markdown",
   "metadata": {},
   "source": [
    "see if you can tell what `IN PLACE` means in the help page (e.g. for `sort()`).\n"
   ]
  },
  {
   "cell_type": "code",
   "execution_count": 6,
   "metadata": {
    "scrolled": true
   },
   "outputs": [
    {
     "name": "stdout",
     "output_type": "stream",
     "text": [
      "['one', 'three', 'two']\n"
     ]
    }
   ],
   "source": [
    "# NOT In-Place (standard)\n",
    "alist = ['one','three','two']\n",
    "blist = ['four','six','zero']\n",
    "\n",
    "c = alist + blist\n",
    "print(alist)"
   ]
  },
  {
   "cell_type": "markdown",
   "metadata": {},
   "source": [
    "\n",
    "For in-place, e.g. list `alist.sort()`, the contents of `alist` are altered:"
   ]
  },
  {
   "cell_type": "code",
   "execution_count": 7,
   "metadata": {
    "scrolled": true
   },
   "outputs": [
    {
     "name": "stdout",
     "output_type": "stream",
     "text": [
      "['one', 'three', 'two', 'four', 'six', 'zero']\n"
     ]
    }
   ],
   "source": [
    "# In-Place:\n",
    "alist = ['one','three','two']\n",
    "blist = ['four','six','zero']\n",
    "\n",
    "alist.extend(blist)\n",
    "print(alist)"
   ]
  },
  {
   "cell_type": "markdown",
   "metadata": {},
   "source": [
    "### online help\n",
    "\n",
    "Not surprisingly, there is lots of help online. For example (https://www.w3schools.com/python)[https://www.w3schools.com/python]:\n",
    "\n",
    "* [list](https://www.w3schools.com/python/python_ref_list.asp)\n",
    "* [list sort](https://www.w3schools.com/python/ref_list_sort.asp)\n",
    "* [list sort: try it yourself](https://www.w3schools.com/python/trypython.asp?filename=demo_ref_list_sort)"
   ]
  },
  {
   "cell_type": "markdown",
   "metadata": {},
   "source": [
    "### help?\n",
    "\n",
    "You can get a shorter set of basic help by putting `?` after the object. \n",
    "\n",
    "In a notebook, this will show in a new window at the bottom of the book. You can get rid of this by clicking the x."
   ]
  },
  {
   "cell_type": "code",
   "execution_count": 8,
   "metadata": {
    "scrolled": true
   },
   "outputs": [],
   "source": [
    "list?"
   ]
  },
  {
   "cell_type": "markdown",
   "metadata": {},
   "source": [
    "## Completion\n",
    "\n",
    "Another useful thing is to see a list of potential methods in a class or e.g. to know what variables already declared start with `f`.\n",
    "\n",
    "Modern editors, [IDEs](https://en.wikipedia.org/wiki/Integrated_development_environment) and related tools often have features for completion of filenames, variables etc. This can help you minimise typing errors (especially for variables), and also help you to keep track of filenames, functions etc.\n",
    "\n",
    "The Jupyter notebooks we are using have this sort of completion feature. Exactly how it works depends on the browser and the server used, but it will usually involve using the `<TAB>` key (either once or twice), and/or spacebar and/or hovering over the text."
   ]
  },
  {
   "cell_type": "markdown",
   "metadata": {},
   "source": [
    "Try this out now, broadly following the guidelines below. Note down what works for you and get used to using it.\n",
    "\n",
    "If you are using a jupyter hub server (or similar):"
   ]
  },
  {
   "cell_type": "code",
   "execution_count": 10,
   "metadata": {
    "scrolled": true
   },
   "outputs": [
    {
     "data": {
      "text/plain": [
       "list"
      ]
     },
     "execution_count": 10,
     "metadata": {},
     "output_type": "execute_result"
    }
   ],
   "source": [
    "# place the cursor after the `.` below\n",
    "# hit the <tab> key, rather than <return> in this cell\n",
    "# Dont run this cell\n",
    "list."
   ]
  },
  {
   "cell_type": "markdown",
   "metadata": {},
   "source": [
    "Otherwise, if you are in colab, try typing the word list, then hover over it for help:"
   ]
  },
  {
   "cell_type": "code",
   "execution_count": null,
   "metadata": {
    "scrolled": true
   },
   "outputs": [],
   "source": [
    "# type the word 'list'\n",
    "# then run the cell\n",
    "list"
   ]
  },
  {
   "cell_type": "markdown",
   "metadata": {},
   "source": [
    "If you are in colab, try typing the word list. then hover over it for help on possible methods:"
   ]
  },
  {
   "cell_type": "code",
   "execution_count": null,
   "metadata": {
    "scrolled": true
   },
   "outputs": [],
   "source": [
    "# type the word 'list.'\n",
    "# then run the cell\n",
    "list."
   ]
  },
  {
   "cell_type": "markdown",
   "metadata": {},
   "source": [
    "Really, this is just using the fact that `<tab>` key performs variable name completion.\n",
    "\n",
    "This means that if you e.g. have variables called `the_long_one` and `the_long_two` set:"
   ]
  },
  {
   "cell_type": "code",
   "execution_count": null,
   "metadata": {
    "scrolled": true
   },
   "outputs": [],
   "source": [
    "the_long_one = 1\n",
    "the_long_two = 2"
   ]
  },
  {
   "cell_type": "markdown",
   "metadata": {},
   "source": [
    "The next time you want to refer to this string in code, you need only type as many letters needed to distinguish this from other variable names, then hit `<tab>` to complete the name as far as possible."
   ]
  },
  {
   "cell_type": "markdown",
   "metadata": {},
   "source": [
    "**E1.1.2 Exercise**\n",
    "\n",
    "* in the cell below, place the cursor after the letter t and hit `<tab>`. It should show you a list of things that begin with `t`. \n",
    "* Use this to write the line of code `the_long_one = 1000`\n",
    "* in the cell below, place the cursor after the letters `th` and hit `<tab>`. It should show you a list of things that begin with `th`. In this case it should just give you the options of `the_long_one` or `the_long_two`. \n",
    "* If you hit `<tab>` again, the variable name will be completed as far as it can, here, up to `the_long_`. Use this to write the line of code `the_long_two = 2000`"
   ]
  },
  {
   "cell_type": "code",
   "execution_count": null,
   "metadata": {
    "scrolled": true
   },
   "outputs": [],
   "source": [
    "# do exercise here ... put the cursor after the t or th and\n",
    "# use <tab> for completion. Dont run this cell\n",
    "t\n",
    "th"
   ]
  },
  {
   "cell_type": "markdown",
   "metadata": {
    "solution2": "hidden",
    "solution2_first": true
   },
   "source": [
    "## Summary\n",
    "\n",
    "In this session, we first learned about some of the various options available for running these notebooks. You should try one or more out to see what suits you and your environment.\n",
    "\n",
    "In this section, we have also learned some different ways to access help on the operation and options for python commands. \n",
    "\n",
    "**E1.2.1 Exercise**\n",
    "\n",
    "Let's use that knowledge to learn something new:\n",
    "\n",
    "* Use online material from [https://www.w3schools.com](https://www.w3schools.com/python) or elsewhere to learn the basics of `for` loops.\n",
    "* Find help for the class `range` to understand how to use this to generate a sequence of integers from 10 to 1 in steps of -1\n",
    "* Use what you have learned to write a `for` loop below that counts backwards from 10 to 0"
   ]
  },
  {
   "cell_type": "code",
   "execution_count": 14,
   "metadata": {
    "scrolled": true,
    "solution2": "hidden"
   },
   "outputs": [
    {
     "name": "stdout",
     "output_type": "stream",
     "text": [
      "10\n",
      "9\n",
      "8\n",
      "7\n",
      "6\n",
      "5\n",
      "4\n",
      "3\n",
      "2\n",
      "1\n"
     ]
    }
   ],
   "source": [
    "## A1.2.1 ANSWER to Exercise E1.2.1\n",
    "# E1.2.1 Exercise answer\n",
    "for i in range(10,0,-1):\n",
    "    print(i)"
   ]
  }
 ],
 "metadata": {
  "gist": {
   "data": {
    "description": "Chapter0_help.ipynb",
    "public": true
   },
   "id": ""
  },
  "hide_input": false,
  "kernelspec": {
   "display_name": "Python 3",
   "language": "python",
   "name": "python3"
  },
  "language_info": {
   "codemirror_mode": {
    "name": "ipython",
    "version": 3
   },
   "file_extension": ".py",
   "mimetype": "text/x-python",
   "name": "python",
   "nbconvert_exporter": "python",
   "pygments_lexer": "ipython3",
   "version": "3.8.3"
  },
  "latex_envs": {
   "LaTeX_envs_menu_present": true,
   "autocomplete": true,
   "bibliofile": "biblio.bib",
   "cite_by": "apalike",
   "current_citInitial": 1,
   "eqLabelWithNumbers": true,
   "eqNumInitial": 1,
   "hotkeys": {
    "equation": "Ctrl-E",
    "itemize": "Ctrl-I"
   },
   "labels_anchors": false,
   "latex_user_defs": false,
   "report_style_numbering": false,
   "user_envs_cfg": false
  },
  "toc": {
   "base_numbering": "1.1",
   "nav_menu": {},
   "number_sections": false,
   "sideBar": true,
   "skip_h1_title": false,
   "title_cell": "Table of Contents",
   "title_sidebar": "Contents",
   "toc_cell": false,
   "toc_position": {
    "height": "calc(100% - 180px)",
    "left": "10px",
    "top": "150px",
    "width": "207px"
   },
   "toc_section_display": true,
   "toc_window_display": false
  },
  "varInspector": {
   "cols": {
    "lenName": 16,
    "lenType": 16,
    "lenVar": 40
   },
   "kernels_config": {
    "python": {
     "delete_cmd_postfix": "",
     "delete_cmd_prefix": "del ",
     "library": "var_list.py",
     "varRefreshCmd": "print(var_dic_list())"
    },
    "r": {
     "delete_cmd_postfix": ") ",
     "delete_cmd_prefix": "rm(",
     "library": "var_list.r",
     "varRefreshCmd": "cat(var_dic_list()) "
    }
   },
   "types_to_exclude": [
    "module",
    "function",
    "builtin_function_or_method",
    "instance",
    "_Feature"
   ],
   "window_display": false
  }
 },
 "nbformat": 4,
 "nbformat_minor": 1
}
