{
 "cells": [
  {
   "cell_type": "markdown",
   "metadata": {},
   "source": [
    "<html>\n",
    "<table style=\"width:100%\" align=\"center\" border=\"0px white\">\n",
    "<tr></td>\n",
    "<td><a href=\"https://colab.research.google.com/github/profLewis/uclgeog_msc_core/blob/master/test.ipynb\">\n",
    "         <img alt=\"Open In Colab\" src=\"https://colab.research.google.com/assets/colab-badge.svg\"\n",
    "         height=70\">\n",
    "</a>\n",
    "<td><a href=\"https://mybinder.org/v2/gh/profLewis/uclgeog_msc_core/master?filepath=test.ipynb\">\n",
    "         <img alt=\"Binder\" src=\"https://mybinder.org/badge_logo.svg\"\n",
    "         height=70\">\n",
    "</a></td>                               \n",
    "<td><a href=\"https://github.com/profLewis/uclgeog_msc_core/blob/master/test.ipynb\">\n",
    "         <img alt=\"View in github\" src=\"https://img.shields.io/static/v1?logo=github&label=View%20in&message=github&color=green\"\n",
    "         height=70\">\n",
    "</a></td>    \n",
    "<td><a href=\"https://nbviewer.jupyter.org/github/profLewis/uclgeog_msc_core/blob/master/test.ipynb\">\n",
    "         <img alt=\"View in nbviewer\" src=\"https://img.shields.io/static/v1?logo=jupyter&label=View%20in&message=nbviewer&color=blue\"\n",
    "         height=70\">\n",
    "</a></td>    \n",
    "    </tr>\n",
    "    </table>\n",
    "    \n",
    "<img alt=\"UCL\" src=\"images/ucl_logo.png\">\n",
    "</html>"
   ]
  },
  {
   "cell_type": "markdown",
   "metadata": {},
   "source": [
    "\n",
    "## Purpose\n",
    "\n",
    "This is a jupyter notebook designed to let you get used to notebooks, and to test your python and notebooks installation.\n",
    "\n",
    "You can find much information on using notebooks on the [web](https://jupyter.org/), so you might start by exploring some of that.\n",
    "\n",
    "## How we will be using notebooks\n",
    "\n",
    "We will be using notebooks to present coursenotes and view and run exercises. We will mainly be doing that using the [anaconda distribution of python](https://anaconda.org/anaconda/python). This should already be installed for you if you are viewing this, but we will runs some tests below just to make sure.\n",
    "\n",
    "The notebook is made up of a series of [cells](https://jupyter-notebook.readthedocs.io/en/stable/notebook.html#:~:text=A%20cell%20is%20a%20multiline,markdown%20cells%2C%20and%20raw%20cells). Some cells, such as the one this is written in, are 'text' cells, where we format the text in a language called [markdown](https://jupyter-notebook.readthedocs.io/en/stable/examples/Notebook/Working%20With%20Markdown%20Cells.html).\n",
    "\n"
   ]
  },
  {
   "cell_type": "markdown",
   "metadata": {
    "solution2": "hidden",
    "solution2_first": true
   },
   "source": [
    "### Exercise: add a cell\n",
    "\n",
    "We can add new cells to this document via the `Insert -> Insert Cell Below` menu in the menu bar at the top of this document.\n",
    "\n",
    "Notice that you can double click on a cell to edit its contents.\n",
    "\n",
    "Add a cell now, below, and use the `Cell -> Cell Type` menu to make this cell type `markdown`. Add some text in there ... lyrics from your favourite song, whatever comes into your head ...\n"
   ]
  },
  {
   "cell_type": "markdown",
   "metadata": {
    "solution2": "hidden"
   },
   "source": [
    "Here is some text I typed!!\n",
    "\n",
    "The first time ever I saw your face ..."
   ]
  },
  {
   "cell_type": "markdown",
   "metadata": {},
   "source": [
    "### Exercise: add some cell formatting\n"
   ]
  },
  {
   "cell_type": "markdown",
   "metadata": {
    "solution2": "hidden",
    "solution2_first": true
   },
   "source": [
    "\n",
    "Add another cell now, below, and use the Cell -> Cell Type menu to make this cell type markdown. \n",
    "\n",
    "This time, include one or more of the [following features](https://github.com/adam-p/markdown-here/wiki/Markdown-Cheatsheet):\n",
    "\n",
    "* a heading\n",
    "* a sub-heading\n",
    "* and equation\n",
    "* links to a web page\n",
    "* a table\n",
    "* a image\n",
    "* some html"
   ]
  },
  {
   "cell_type": "markdown",
   "metadata": {
    "solution2": "hidden"
   },
   "source": [
    "# Main Heading\n",
    "\n",
    "## equation\n",
    "\n",
    "\\begin{equation*}\n",
    "\\left( \\sum_{k=1}^n a_k b_k \\right)^2 \\leq \\left( \\sum_{k=1}^n a_k^2 \\right) \\left( \\sum_{k=1}^n b_k^2 \\right)\n",
    "\\end{equation*}\n",
    "\n",
    "### link\n",
    "\n",
    "[click me and I will pop up a google search window](https://www.google.com)\n",
    "\n",
    "### table\n",
    "\n",
    "| a | b | c | d | e |\n",
    "|:-:|:-:|:-:|:-:|-|\n",
    "| 🙈 | 💥 | 🦧 | 🐇 | 🐪 |\n",
    "| f | g | h | i | j |\n",
    "| 🙈 | 💥 | 🦧 | 🐇 | 🐪 |\n",
    "\n",
    "### image\n",
    "\n",
    "![ucl logo](images/ucl_logo.png)\n",
    "\n",
    "\n",
    "### html\n",
    "\n",
    "\n",
    "<html>\n",
    "<body>\n",
    "\n",
    "<h2>HTML Forms</h2>\n",
    "\n",
    "<form action=\"/action_page.php\">\n",
    "  <label for=\"fname\">First name:</label><br>\n",
    "  <input type=\"text\" id=\"fname\" name=\"fname\" value=\"John\"><br>\n",
    "  <label for=\"lname\">Last name:</label><br>\n",
    "  <input type=\"text\" id=\"lname\" name=\"lname\" value=\"Doe\"><br><br>\n",
    "  <input type=\"submit\" value=\"Submit\">\n",
    "</form> \n",
    "\n",
    "<p>If you click the \"Submit\" button, the form-data will be sent to a page called \"/action_page.php\".</p>\n",
    "\n",
    "</body>\n",
    "</html>"
   ]
  },
  {
   "cell_type": "markdown",
   "metadata": {},
   "source": [
    "### Exercise: List help\n",
    "\n",
    "* Read through the help information for list, above.\n",
    "* create a list called `alist` and `blist`:\n",
    "\n",
    "        alist = ['one','three','two']\n",
    "        blist = ['four','six','zero']\n",
    "    \n",
    "You can print the lists with:\n",
    "\n",
    "        print(alist,blist)\n",
    "    \n",
    "Using the help information, work out how to:\n",
    "\n",
    "* extend `alist` with `blist` to create `['one','three','two','four','six','zero']`. N.B. This is not quite the same as our use of `append()` above.\n",
    "* sort the new `alist` into **alpabetical order** and print the results\n"
   ]
  },
  {
   "cell_type": "code",
   "execution_count": 1,
   "metadata": {
    "solution2": "hidden",
    "solution2_first": true
   },
   "outputs": [
    {
     "name": "stdout",
     "output_type": "stream",
     "text": [
      "['one', 'three', 'two'] ['four', 'six', 'zero']\n"
     ]
    }
   ],
   "source": [
    "# E1.1.1 list help\n",
    "# do the exercise here \n",
    "alist = ['one','three','two']\n",
    "blist = ['four','six','zero']\n",
    "print(alist,blist)\n",
    "# join\n",
    "\n",
    "# sort\n"
   ]
  },
  {
   "cell_type": "code",
   "execution_count": null,
   "metadata": {
    "scrolled": true,
    "solution2": "hidden"
   },
   "outputs": [],
   "source": [
    "# E1.1.1 list help\n",
    "# ANSWERS\n",
    "alist = ['one','three','two']\n",
    "blist = ['four','six','zero']\n",
    "print(alist,blist)\n",
    "# join\n",
    "alist.extend(blist)\n",
    "print(\"extended\",alist)\n",
    "# sort\n",
    "alist.sort()\n",
    "print(\"sorted\",alist)"
   ]
  },
  {
   "cell_type": "markdown",
   "metadata": {},
   "source": [
    "You may have noticed that it mentions [`IN PLACE`](https://www.geeksforgeeks.org/inplace-vs-standard-operators-python/) in the help information. This means that the operation affects the contents of the variable. So, a standard operation would be e.g.:\n",
    "\n",
    "    alist = ['one','three','two']\n",
    "    blist = ['four','six','zero']\n",
    "\n",
    "    c = alist + blist\n",
    "    print(alist)\n",
    "    \n",
    "where the results from the `+` operation is returned, and the contents of `c` set to this."
   ]
  },
  {
   "cell_type": "markdown",
   "metadata": {},
   "source": [
    "see if you can tell what `IN PLACE` means in the help page (e.g. for `sort()`).\n"
   ]
  },
  {
   "cell_type": "code",
   "execution_count": 6,
   "metadata": {
    "scrolled": true
   },
   "outputs": [
    {
     "name": "stdout",
     "output_type": "stream",
     "text": [
      "['one', 'three', 'two']\n"
     ]
    }
   ],
   "source": [
    "# NOT In-Place (standard)\n",
    "alist = ['one','three','two']\n",
    "blist = ['four','six','zero']\n",
    "\n",
    "c = alist + blist\n",
    "print(alist)"
   ]
  },
  {
   "cell_type": "markdown",
   "metadata": {},
   "source": [
    "\n",
    "For in-place, e.g. list `alist.sort()`, the contents of `alist` are altered:"
   ]
  },
  {
   "cell_type": "code",
   "execution_count": 7,
   "metadata": {
    "scrolled": true
   },
   "outputs": [
    {
     "name": "stdout",
     "output_type": "stream",
     "text": [
      "['one', 'three', 'two', 'four', 'six', 'zero']\n"
     ]
    }
   ],
   "source": [
    "# In-Place:\n",
    "alist = ['one','three','two']\n",
    "blist = ['four','six','zero']\n",
    "\n",
    "alist.extend(blist)\n",
    "print(alist)"
   ]
  },
  {
   "cell_type": "markdown",
   "metadata": {},
   "source": [
    "### online help\n",
    "\n",
    "Not surprisingly, there is lots of help online. For example (https://www.w3schools.com/python)[https://www.w3schools.com/python]:\n",
    "\n",
    "* [list](https://www.w3schools.com/python/python_ref_list.asp)\n",
    "* [list sort](https://www.w3schools.com/python/ref_list_sort.asp)\n",
    "* [list sort: try it yourself](https://www.w3schools.com/python/trypython.asp?filename=demo_ref_list_sort)"
   ]
  },
  {
   "cell_type": "markdown",
   "metadata": {},
   "source": [
    "### help?\n",
    "\n",
    "You can get a shorter set of basic help by putting `?` after the object. \n",
    "\n",
    "In a notebook, this will show in a new window at the bottom of the book. You can get rid of this by clicking the x."
   ]
  },
  {
   "cell_type": "code",
   "execution_count": 8,
   "metadata": {
    "scrolled": true
   },
   "outputs": [],
   "source": [
    "list?"
   ]
  },
  {
   "cell_type": "markdown",
   "metadata": {},
   "source": [
    "## Completion\n",
    "\n",
    "Another useful thing is to see a list of potential methods in a class or e.g. to know what variables already declared start with `f`.\n",
    "\n",
    "Modern editors, [IDEs](https://en.wikipedia.org/wiki/Integrated_development_environment) and related tools often have features for completion of filenames, variables etc. This can help you minimise typing errors (especially for variables), and also help you to keep track of filenames, functions etc.\n",
    "\n",
    "The Jupyter notebooks we are using have this sort of completion feature. Exactly how it works depends on the browser and the server used, but it will usually involve using the `<TAB>` key (either once or twice), and/or spacebar and/or hovering over the text."
   ]
  },
  {
   "cell_type": "markdown",
   "metadata": {},
   "source": [
    "Try this out now, broadly following the guidelines below. Note down what works for you and get used to using it.\n",
    "\n",
    "If you are using a jupyter hub server (or similar):"
   ]
  },
  {
   "cell_type": "code",
   "execution_count": 10,
   "metadata": {
    "scrolled": true
   },
   "outputs": [
    {
     "data": {
      "text/plain": [
       "list"
      ]
     },
     "execution_count": 10,
     "metadata": {},
     "output_type": "execute_result"
    }
   ],
   "source": [
    "# place the cursor after the `.` below\n",
    "# hit the <tab> key, rather than <return> in this cell\n",
    "# Dont run this cell\n",
    "list."
   ]
  },
  {
   "cell_type": "markdown",
   "metadata": {},
   "source": [
    "Otherwise, if you are in colab, try typing the word list, then hover over it for help:"
   ]
  },
  {
   "cell_type": "code",
   "execution_count": null,
   "metadata": {
    "scrolled": true
   },
   "outputs": [],
   "source": [
    "# type the word 'list'\n",
    "# then run the cell\n",
    "list"
   ]
  },
  {
   "cell_type": "markdown",
   "metadata": {},
   "source": [
    "If you are in colab, try typing the word list. then hover over it for help on possible methods:"
   ]
  },
  {
   "cell_type": "code",
   "execution_count": null,
   "metadata": {
    "scrolled": true
   },
   "outputs": [],
   "source": [
    "# type the word 'list.'\n",
    "# then run the cell\n",
    "list."
   ]
  },
  {
   "cell_type": "markdown",
   "metadata": {},
   "source": [
    "Really, this is just using the fact that `<tab>` key performs variable name completion.\n",
    "\n",
    "This means that if you e.g. have variables called `the_long_one` and `the_long_two` set:"
   ]
  },
  {
   "cell_type": "code",
   "execution_count": null,
   "metadata": {
    "scrolled": true
   },
   "outputs": [],
   "source": [
    "the_long_one = 1\n",
    "the_long_two = 2"
   ]
  },
  {
   "cell_type": "markdown",
   "metadata": {},
   "source": [
    "The next time you want to refer to this string in code, you need only type as many letters needed to distinguish this from other variable names, then hit `<tab>` to complete the name as far as possible."
   ]
  },
  {
   "cell_type": "markdown",
   "metadata": {},
   "source": [
    "**E1.1.2 Exercise**\n",
    "\n",
    "* in the cell below, place the cursor after the letter t and hit `<tab>`. It should show you a list of things that begin with `t`. \n",
    "* Use this to write the line of code `the_long_one = 1000`\n",
    "* in the cell below, place the cursor after the letters `th` and hit `<tab>`. It should show you a list of things that begin with `th`. In this case it should just give you the options of `the_long_one` or `the_long_two`. \n",
    "* If you hit `<tab>` again, the variable name will be completed as far as it can, here, up to `the_long_`. Use this to write the line of code `the_long_two = 2000`"
   ]
  },
  {
   "cell_type": "code",
   "execution_count": null,
   "metadata": {
    "scrolled": true
   },
   "outputs": [],
   "source": [
    "# do exercise here ... put the cursor after the t or th and\n",
    "# use <tab> for completion. Dont run this cell\n",
    "t\n",
    "th"
   ]
  },
  {
   "cell_type": "markdown",
   "metadata": {
    "solution2": "hidden",
    "solution2_first": true
   },
   "source": [
    "## Summary\n",
    "\n",
    "In this session, we first learned about some of the various options available for running these notebooks. You should try one or more out to see what suits you and your environment.\n",
    "\n",
    "In this section, we have also learned some different ways to access help on the operation and options for python commands. \n",
    "\n",
    "**E1.2.1 Exercise**\n",
    "\n",
    "Let's use that knowledge to learn something new:\n",
    "\n",
    "* Use online material from [https://www.w3schools.com](https://www.w3schools.com/python) or elsewhere to learn the basics of `for` loops.\n",
    "* Find help for the class `range` to understand how to use this to generate a sequence of integers from 10 to 1 in steps of -1\n",
    "* Use what you have learned to write a `for` loop below that counts backwards from 10 to 0"
   ]
  },
  {
   "cell_type": "code",
   "execution_count": 14,
   "metadata": {
    "scrolled": true,
    "solution2": "hidden"
   },
   "outputs": [
    {
     "name": "stdout",
     "output_type": "stream",
     "text": [
      "10\n",
      "9\n",
      "8\n",
      "7\n",
      "6\n",
      "5\n",
      "4\n",
      "3\n",
      "2\n",
      "1\n"
     ]
    }
   ],
   "source": [
    "## A1.2.1 ANSWER to Exercise E1.2.1\n",
    "# E1.2.1 Exercise answer\n",
    "for i in range(10,0,-1):\n",
    "    print(i)"
   ]
  }
 ],
 "metadata": {
  "gist": {
   "data": {
    "description": "Chapter0_help.ipynb",
    "public": true
   },
   "id": ""
  },
  "hide_input": false,
  "kernelspec": {
   "display_name": "Python 3",
   "language": "python",
   "name": "python3"
  },
  "language_info": {
   "codemirror_mode": {
    "name": "ipython",
    "version": 3
   },
   "file_extension": ".py",
   "mimetype": "text/x-python",
   "name": "python",
   "nbconvert_exporter": "python",
   "pygments_lexer": "ipython3",
   "version": "3.7.6"
  },
  "latex_envs": {
   "LaTeX_envs_menu_present": true,
   "autocomplete": true,
   "bibliofile": "biblio.bib",
   "cite_by": "apalike",
   "current_citInitial": 1,
   "eqLabelWithNumbers": true,
   "eqNumInitial": 1,
   "hotkeys": {
    "equation": "Ctrl-E",
    "itemize": "Ctrl-I"
   },
   "labels_anchors": false,
   "latex_user_defs": false,
   "report_style_numbering": false,
   "user_envs_cfg": false
  },
  "toc": {
   "base_numbering": "1.1",
   "nav_menu": {},
   "number_sections": false,
   "sideBar": true,
   "skip_h1_title": false,
   "title_cell": "Table of Contents",
   "title_sidebar": "Contents",
   "toc_cell": false,
   "toc_position": {
    "height": "calc(100% - 180px)",
    "left": "10px",
    "top": "150px",
    "width": "207px"
   },
   "toc_section_display": true,
   "toc_window_display": false
  },
  "varInspector": {
   "cols": {
    "lenName": 16,
    "lenType": 16,
    "lenVar": 40
   },
   "kernels_config": {
    "python": {
     "delete_cmd_postfix": "",
     "delete_cmd_prefix": "del ",
     "library": "var_list.py",
     "varRefreshCmd": "print(var_dic_list())"
    },
    "r": {
     "delete_cmd_postfix": ") ",
     "delete_cmd_prefix": "rm(",
     "library": "var_list.r",
     "varRefreshCmd": "cat(var_dic_list()) "
    }
   },
   "types_to_exclude": [
    "module",
    "function",
    "builtin_function_or_method",
    "instance",
    "_Feature"
   ],
   "window_display": false
  }
 },
 "nbformat": 4,
 "nbformat_minor": 1
}
