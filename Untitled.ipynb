{
 "cells": [
  {
   "cell_type": "code",
   "execution_count": null,
   "metadata": {},
   "outputs": [],
   "source": [
    "from uclgeog_msc.process_timeseries import process_single_date,get_world\n",
    "from uclgeog_msc.get_modis_files import get_modis_files\n",
    "\n",
    "import gdal\n",
    "import matplotlib.pylab as plt\n",
    "# UK tiles\n",
    "tiles = []\n",
    "for h in [17, 18]:\n",
    "    for v in [3, 4]:\n",
    "        tiles.append(f'h{h:02d}v{v:02d}')\n",
    "\n",
    "\n",
    "country_code = 'UK'\n",
    "frmat=\"GTiff\"\n",
    "# specify day of year (DOY) and year\n",
    "doy,year = 1,2020\n",
    "\n",
    "shpfile = get_world(force=True).replace('.zip','.shp')\n",
    "folder=\"data/\"\n",
    "layer=\"Lai_500m\"\n",
    "product='MCD15A3H'\n",
    "\n",
    "# download data from NASA server\n",
    "mfiles = get_modis_files(doy,year,tiles,product=product,version=6,\\\n",
    "                      destination_folder=folder,verbose=True,\\\n",
    "                      base_url='https://e4ftl01.cr.usgs.gov/MOTA')\n",
    "\n",
    "# extract data for single date\n",
    "lai_data, weights = process_single_date(tiles,\n",
    "                    doy,\n",
    "                    year,\n",
    "                    ofolder=folder,\n",
    "                    folder=folder,\n",
    "                    shpfile=shpfile,\n",
    "                    country_code=country_code,\n",
    "                    frmat=frmat)\n",
    "mask = (weights > 0).astype(float)\n",
    "mask[mask==0] = np.nan\n",
    "plt.figure(figsize=(10,20))\n",
    "plt.imshow(lai_data * mask,vmax=3)\n",
    "plt.colorbar()"
   ]
  },
  {
   "cell_type": "code",
   "execution_count": null,
   "metadata": {},
   "outputs": [],
   "source": []
  }
 ],
 "metadata": {
  "kernelspec": {
   "display_name": "Python 3",
   "language": "python",
   "name": "python3"
  },
  "language_info": {
   "codemirror_mode": {
    "name": "ipython",
    "version": 3
   },
   "file_extension": ".py",
   "mimetype": "text/x-python",
   "name": "python",
   "nbconvert_exporter": "python",
   "pygments_lexer": "ipython3",
   "version": "3.8.3"
  },
  "varInspector": {
   "cols": {
    "lenName": 16,
    "lenType": 16,
    "lenVar": 40
   },
   "kernels_config": {
    "python": {
     "delete_cmd_postfix": "",
     "delete_cmd_prefix": "del ",
     "library": "var_list.py",
     "varRefreshCmd": "print(var_dic_list())"
    },
    "r": {
     "delete_cmd_postfix": ") ",
     "delete_cmd_prefix": "rm(",
     "library": "var_list.r",
     "varRefreshCmd": "cat(var_dic_list()) "
    }
   },
   "types_to_exclude": [
    "module",
    "function",
    "builtin_function_or_method",
    "instance",
    "_Feature"
   ],
   "window_display": false
  }
 },
 "nbformat": 4,
 "nbformat_minor": 4
}
