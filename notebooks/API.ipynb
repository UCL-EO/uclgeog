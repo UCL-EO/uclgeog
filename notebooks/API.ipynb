{
 "cells": [
  {
   "cell_type": "markdown",
   "metadata": {},
   "source": [
    "# API keys\n",
    "\n",
    "## Purpose\n",
    "\n",
    "In this notebook, we are going to set up the infotrmation we need to be able to access the various APIs we will use in these courses. \n",
    "\n",
    "We will do this in a flexible and general manner by storing relevant API keys as environemnat variables on your computer. This allows us to make easy use of API keys, without the need to expose them in our code.\n",
    "\n",
    "For each API, you will need to register at the appropriate webpage.\n",
    "\n",
    "## Requirements\n",
    "\n",
    "You need to have a general idea of what an AOi is.\n",
    "\n",
    "You should have familiarity with running cells in a notebook.\n",
    "\n",
    "### What is an API?\n",
    "\n",
    "### What is an API key?"
   ]
  },
  {
   "cell_type": "markdown",
   "metadata": {},
   "source": [
    "# api.nasa.gov\n",
    "\n",
    "One AP we will make extensive use of is the NASA data API.\n",
    "\n",
    "You should register for this at [https://api.nasa.gov/](https://api.nasa.gov/).\n",
    "\n",
    "* Go to the `Generate API Key` tab on this page, fill out the form and signup.\n",
    "  You will receive a response telling you your API key which will look something like:\n",
    "\n",
    "        lfXatLwwsS3BG133GsHtQp6BbVqMqMGgIepdJ7ty\n",
    "\n",
    "    Note, the key here is *not* a valid key, simply an example of the format.\n",
    "\n",
    "* In the cell below, replace this example key with "
   ]
  },
  {
   "cell_type": "code",
   "execution_count": 1,
   "metadata": {},
   "outputs": [],
   "source": [
    "%%bash\n",
    "NASA_API_KEY=lcX6tLxwsS3BGx36GwHtQp6BbVqMqMGfIepdJ9tZ\n",
    "echo \"NASA_API_KEY=${NASA_API_KEY}\" >> ~/.bashrc"
   ]
  },
  {
   "cell_type": "code",
   "execution_count": 5,
   "metadata": {},
   "outputs": [
    {
     "name": "stdout",
     "output_type": "stream",
     "text": [
      "lcX6tLxwsS3BGx36GwHtQp6BbVqMqMGfIepdJ9tZ\n"
     ]
    }
   ],
   "source": [
    "import os\n",
    "NASA_API_KEY=os.getenv('NASA_API_KEY')\n",
    "print(NASA_API_KEY)"
   ]
  },
  {
   "cell_type": "code",
   "execution_count": 8,
   "metadata": {},
   "outputs": [],
   "source": [
    "import sys\n",
    "import json\n",
    "import os\n",
    "from getpass import getpass\n",
    "from pathlib import Path\n",
    "from jupyter_client import kernelspec\n",
    "import requests\n",
    "from PIL import Image, ImageOps\n",
    "\n",
    "class getAPIkey():\n",
    "    '''\n",
    "    class to return API key that may be stored in various places\n",
    "\n",
    "    Method to get API key if it exists\n",
    "    or prompt for it otherwise.\n",
    "    \n",
    "    Checklist of places to look:\n",
    "    - os.getenv(keyname)\n",
    "    - ~/.bashrc\n",
    "      as environment variable\n",
    "      of form: \n",
    "          NASA_API_KEY=1234567ghts\n",
    "      The interpretation is configurable to allow for other shells\n",
    "      via the parameters\n",
    "                 bashenv={\n",
    "                     'name' :'.bashrc',\n",
    "                     'split':'=',\n",
    "                     'len'  : 2,\n",
    "                     'value': 1,\n",
    "                     'key'  : 0,\n",
    "                 }\n",
    "    - jupyter kernel file\n",
    "        f'{sys.prefix}/share/jupyter/kernels/{database}/kernel.json'\n",
    "        \n",
    "    Result is stored in:\n",
    "    - jupyter kernel file\n",
    "        f'{sys.prefix}/share/jupyter/kernels/{database}/kernel.json'\n",
    "    '''\n",
    "    def __init__(self,keyname='NASA_API_KEY',\n",
    "                 force=False,\n",
    "                 verbose=False,\n",
    "                 bashenv={\n",
    "                     'name' :'.bashrc',\n",
    "                     'split':'=',\n",
    "                     'len'  : 2,\n",
    "                     'value': 1,\n",
    "                     'key'  : 0\n",
    "                 },\n",
    "                 store=True,\n",
    "                 backup='python3',\n",
    "                 database='uclgeog_core'):\n",
    "        self.keyname = keyname\n",
    "        self.force = force\n",
    "        self.verbose = verbose\n",
    "        self.bashenv = bashenv\n",
    "        self.store = store\n",
    "        \n",
    "        # these are notebook kernels\n",
    "        # backup would normally be python3\n",
    "        # we will copy from backup if \n",
    "        # databsse doesnt exist\n",
    "        self.database = database\n",
    "        self.backup = backup\n",
    "        \n",
    "        # force the user to enter \n",
    "        if self.force:\n",
    "            self.keyvalue = self.give_it_to_me()\n",
    "        \n",
    "        # get it from env if its there\n",
    "        self.keyvalue = None\n",
    "        \n",
    "    def look_in_getenv(self,keyname=None):\n",
    "        keyname = keyname or self.keyname\n",
    "        keyvalue = os.getenv(keyname)\n",
    "        return keyvalue\n",
    "        \n",
    "    def look_in_bashrc(self,keyname=None,bashenv=None):\n",
    "        bashenv = bashenv or self.bashenv\n",
    "        keyname = keyname or self.keyname\n",
    "        keyvalue = None\n",
    "        try:\n",
    "            kernel = Path.home() / bashenv['name']\n",
    "            with(open(kernel,'r')) as f:\n",
    "                for line in f.readlines():\n",
    "                    # remove export if its there\n",
    "                    if line.rstrip().split()[0] == 'export':\n",
    "                        line = line.replace('export','').lstrip()\n",
    "                    s = line.rstrip().split(bashenv['split'])\n",
    "                    if (s[bashenv['key']] == keyname) and len(s) == bashenv['len']:\n",
    "                        keyvalue = s[bashenv['value']]\n",
    "        except:\n",
    "            pass\n",
    "        return keyvalue\n",
    "\n",
    "    def look_in_notebook_specs(self,keyname=None,speclist=None):\n",
    "        '''\n",
    "        find keyname in kernelspec\n",
    "        and return the first we find \n",
    "        \n",
    "        store (specitem,keyname,keyvalue) in self.specitem\n",
    "        '''\n",
    "        keyname = keyname or self.keyname\n",
    "        keyvalue = None\n",
    "        speclist = speclist or kernelspec.find_kernel_specs().keys()\n",
    "        speclist = list(speclist)\n",
    "        # look over list\n",
    "        try:\n",
    "            for specitem in speclist:\n",
    "                try:\n",
    "                    spec = kernelspec.get_kernel_spec(specitem)\n",
    "                    env = spec.env\n",
    "                    if keyname in env:\n",
    "                        keyvalue = spec[keyname]\n",
    "                        self.specitem = (specitem,keyname,keyvalue)\n",
    "                        return keyvalue\n",
    "                except:\n",
    "                    pass\n",
    "        except:\n",
    "            pass\n",
    "        return keyvalue\n",
    "    \n",
    "    def give_it_to_me(self,keyname=None):\n",
    "        '''\n",
    "        interactive request for API key from user\n",
    "        '''\n",
    "        keyname = keyname or self.keyname\n",
    "        keyvalue = getpass(prompt=f'Enter {keyname}:')\n",
    "        return keyvalue\n",
    "    \n",
    "    def find(self,keyname=None):\n",
    "        keyname = keyname or self.keyname\n",
    "        keyvalue = self.keyvalue or \\\n",
    "           self.look_in_getenv(keyname=keyname) or \\\n",
    "           self.look_in_bashrc(keyname=keyname) or\\\n",
    "           self.look_in_notebook_specs(keyname=keyname,speclist=self.database) or\\\n",
    "           self.look_in_notebook_specs(keyname=keyname) or \\\n",
    "           self.give_it_to_me()\n",
    "        try:\n",
    "            os.environ[keyname]=keyvalue\n",
    "        except:\n",
    "            pass\n",
    "        return keyvalue\n",
    "    \n",
    "    def make_icons(self,spec):\n",
    "        '''\n",
    "        Use UCL icon file to make 64 x 64 and 32 x 32 logo images\n",
    "        and store in resource dir\n",
    "        '''\n",
    "        # put logo file in resource dir\n",
    "        ucllogo = Path(spec.resource_dir + '/ucl_logo.png')\n",
    "        logo3232 = Path(spec.resource_dir + '/logo-32x32.png')\n",
    "        logo6464 = Path(spec.resource_dir + '/logo-64x64.png')\n",
    "        url = 'https://raw.githubusercontent.com/UCL-EO/uclgeog_core/master/images/ucl_logo.png'\n",
    "        try:\n",
    "            r = requests.get(url, allow_redirects=True)\n",
    "            open(ucllogo, 'wb').write(r.content)\n",
    "            # now make logo\n",
    "            image = Image.open(ucllogo)\n",
    "            aspect_ratio = image.size[0]/image.size[1]\n",
    "            big = int(aspect_ratio * 64)\n",
    "            image = image.resize((big,64),Image.ANTIALIAS)\n",
    "            new_im = Image.new('RGB',(big,big),(255, 255, 255)) # White\n",
    "            new_im.paste(image, image.getbbox())  # Not cent\n",
    "            new_im.resize((64,64),Image.ANTIALIAS).save(logo6464)\n",
    "            new_im.resize((32,32),Image.ANTIALIAS).save(logo3232)\n",
    "            return new_im\n",
    "        except:\n",
    "            return None\n",
    "\n",
    "    def write_bash(self,keyname=None,bashenv=None):\n",
    "        '''\n",
    "        Dont change the bashenv at the moment\n",
    "        as its only partially implemented\n",
    "        '''\n",
    "        verbose = self.verbose\n",
    "        bashenv = bashenv or self.bashenv\n",
    "        keyname = keyname or self.keyname\n",
    "        keyvalue = self.find()\n",
    "        try:\n",
    "            kernel = Path.home() / bashenv['name']\n",
    "            # write to the end of this\n",
    "            with(open(kernel,'a+')) as f:\n",
    "                # dont take notice of bashenv at the moment\n",
    "                line = f'export {keyname}={keyvalue}\\n'\n",
    "                f.write(line)\n",
    "        except:\n",
    "            pass\n",
    "        return kernel\n",
    "    \n",
    "    def write_notebook(self,specname=None,backup=None,keyname=None):\n",
    "        '''\n",
    "        write keyvalue into database notebook kernel file\n",
    "        '''\n",
    "        verbose = self.verbose\n",
    "        # see https://jupyter-client.readthedocs.io/en/latest/kernels.html\n",
    "        specname = specname or self.database\n",
    "        backup = backup or self.backup\n",
    "        keyname = keyname or self.keyname\n",
    "        try:\n",
    "            # exists\n",
    "            spec = kernelspec.get_kernel_spec(specname)\n",
    "        except:\n",
    "            # doesnt exist\n",
    "            spec = kernelspec.get_kernel_spec(backup)\n",
    "            kernel_file = kernelspec.find_kernel_specs()[backup]\n",
    "            # create specname\n",
    "            # try as user then not\n",
    "            try:\n",
    "                kernelspec.install_kernel_spec(kernel_file,\n",
    "                kernel_name=specname, user=False,replace=True)\n",
    "            except:\n",
    "                kernelspec.install_kernel_spec(kernel_file,\n",
    "                                               kernel_name=specname, \n",
    "                                               user=True,replace=True)\n",
    "        try:\n",
    "            spec = kernelspec.get_kernel_spec(specname)\n",
    "            # now load specname\n",
    "            # make a name derived from specname\n",
    "            spec.display_name = ' '.join([i.capitalize() for i in specname.split('_')])\n",
    "            # make sure language is python\n",
    "            spec.language='python'\n",
    "            # add env variable if we can\n",
    "            if spec.has_trait('env'):\n",
    "                spec.env[keyname] = keyvalue\n",
    "            else:\n",
    "                # work out how to add env trait at some point\n",
    "                pass\n",
    "\n",
    "            # Serializing json \n",
    "            json_object  = spec.to_json()\n",
    "\n",
    "            # write this out\n",
    "            kernel = Path(spec.resource_dir + '/kernel.json')\n",
    "            kernel.parent.mkdir(parents=True, exist_ok=True)\n",
    "            with open(kernel, 'w') as f:\n",
    "                if verbose:\n",
    "                    print(f'jupyter kernel written to {kernel}')\n",
    "                f.write(json_object) \n",
    "\n",
    "            self.make_icons(spec)\n",
    "            # load again for luck\n",
    "            spec = kernelspec.get_kernel_spec(specname)\n",
    "            return spec\n",
    "        except:\n",
    "            return None\n",
    "\n",
    "    def set(self):\n",
    "        '''\n",
    "        write the API key to notebook and bashrc\n",
    "        '''\n",
    "        spec=api.write_notebook()\n",
    "        bashrc=api.write_bash()\n"
   ]
  },
  {
   "cell_type": "code",
   "execution_count": 11,
   "metadata": {},
   "outputs": [
    {
     "name": "stdout",
     "output_type": "stream",
     "text": [
      "NASA_API_KEY lcX6tLxwsS3BGx36GwHtQp6BbVqMqMGfIepdJ9tZ\n"
     ]
    }
   ],
   "source": [
    "'''\n",
    "Use of api grabber\n",
    "\n",
    "force = True to force input from user\n",
    "'''\n",
    "keyname='NASA_API_KEY'\n",
    "api = getAPIkey(keyname,force=False)\n",
    "keyvalue = api.find()\n",
    "spec=api.write_notebook()\n",
    "bashrc=api.write_bash()\n",
    "print(keyname,keyvalue)"
   ]
  },
  {
   "cell_type": "code",
   "execution_count": 12,
   "metadata": {},
   "outputs": [
    {
     "name": "stdout",
     "output_type": "stream",
     "text": [
      "/Users/plewis/.bashrc\n"
     ]
    }
   ],
   "source": [
    "print(bashrc)\n",
    "#help(os.putenv)"
   ]
  },
  {
   "cell_type": "code",
   "execution_count": 257,
   "metadata": {},
   "outputs": [
    {
     "data": {
      "image/png": "[encoded data removed]",
      "text/plain": [
       "<PIL.Image.Image image mode=RGB size=32x32 at 0x7FCACDA703D0>"
      ]
     },
     "execution_count": 257,
     "metadata": {},
     "output_type": "execute_result"
    }
   ],
   "source": [
    "\n",
    "def make_icons(self,spec):\n",
    "    '''\n",
    "    Use UCL icon file to make 64 x 64 and 32 x 32 logo images\n",
    "    and store in resource dir\n",
    "    '''\n",
    "    # put logo file in resource dir\n",
    "    ucllogo = Path(spec.resource_dir + '/ucl_logo.png')\n",
    "    logo3232 = Path(spec.resource_dir + '/logo-32x32.png')\n",
    "    logo6464 = Path(spec.resource_dir + '/logo-64x64.png')\n",
    "    url = 'https://raw.githubusercontent.com/UCL-EO/uclgeog_core/master/images/ucl_logo.png'\n",
    "    try:\n",
    "        r = requests.get(url, allow_redirects=True)\n",
    "        open(ucllogo, 'wb').write(r.content)\n",
    "        # now make logo\n",
    "        image = Image.open(ucllogo)\n",
    "        aspect_ratio = image.size[0]/image.size[1]\n",
    "        big = int(aspect_ratio * 64)\n",
    "        image = image.resize((big,64),Image.ANTIALIAS)\n",
    "        new_im = Image.new('RGB',(big,big),(255, 255, 255)) # White\n",
    "        new_im.paste(image, image.getbbox())  # Not cent\n",
    "        new_im.resize((64,64),Image.ANTIALIAS).save(logo6464)\n",
    "        new_im.resize((32,32),Image.ANTIALIAS).save(logo3232)\n",
    "        return new_im\n",
    "    except:\n",
    "        return None\n"
   ]
  },
  {
   "cell_type": "code",
   "execution_count": 253,
   "metadata": {},
   "outputs": [
    {
     "data": {
      "image/png": "[encoded data removed]",
      "text/plain": [
       "<PIL.Image.Image image mode=RGB size=197x197 at 0x7FCACF1E5CD0>"
      ]
     },
     "execution_count": 253,
     "metadata": {},
     "output_type": "execute_result"
    }
   ],
   "source": [
    "image = Image.open(ucllogo)\n",
    "aspect_ratio = image.size[0]/image.size[1]\n",
    "big = int(aspect_ratio * 64)\n",
    "image = image.resize((big,64),Image.ANTIALIAS)\n",
    "padding = (big,big)\n",
    "new_im = Image.new('RGB',\n",
    "                 (big,big),   # A4 at 72dpi\n",
    "                 (255, 255, 255))  # White\n",
    "new_im.paste(image, image.getbbox())  # Not cent\n"
   ]
  },
  {
   "cell_type": "code",
   "execution_count": 246,
   "metadata": {},
   "outputs": [
    {
     "name": "stdout",
     "output_type": "stream",
     "text": [
      "Help on function expand in module PIL.ImageOps:\n",
      "\n",
      "expand(image, border=0, fill=0)\n",
      "    Add border to the image\n",
      "    \n",
      "    :param image: The image to expand.\n",
      "    :param border: Border width, in pixels.\n",
      "    :param fill: Pixel fill value (a color value).  Default is 0 (black).\n",
      "    :return: An image.\n",
      "\n"
     ]
    }
   ],
   "source": [
    "help(ImageOps.expand)"
   ]
  },
  {
   "cell_type": "code",
   "execution_count": 209,
   "metadata": {},
   "outputs": [
    {
     "name": "stdout",
     "output_type": "stream",
     "text": [
      "Available kernels:\r\n",
      "  c                   /Users/plewis/Library/Jupyter/kernels/c\r\n",
      "  python3             /Users/plewis/opt/anaconda3/envs/uclgeog_core/share/jupyter/kernels/python3\r\n",
      "  uclgeog_core    /usr/local/share/jupyter/kernels/uclgeog_core\r\n"
     ]
    }
   ],
   "source": [
    "!jupyter kernelspec list"
   ]
  },
  {
   "cell_type": "code",
   "execution_count": 206,
   "metadata": {},
   "outputs": [
    {
     "data": {
      "text/plain": [
       "{'argv': ['/Users/plewis/opt/anaconda3/envs/uclgeog_core/bin/python',\n",
       "  '-m',\n",
       "  'ipykernel_launcher',\n",
       "  '-f',\n",
       "  '{connection_file}'],\n",
       " 'env': {'NASA_API_KEY': 'lcX6tLxwsS3BGx36GwHtQp6BbVqMqMGfIepdJ9tZ'},\n",
       " 'display_name': 'Uclgeog Msc Core',\n",
       " 'language': 'python',\n",
       " 'interrupt_mode': 'signal',\n",
       " 'metadata': {}}"
      ]
     },
     "execution_count": 206,
     "metadata": {},
     "output_type": "execute_result"
    }
   ],
   "source": [
    "spec.to_dict()"
   ]
  },
  {
   "cell_type": "code",
   "execution_count": 173,
   "metadata": {},
   "outputs": [
    {
     "data": {
      "text/plain": [
       "'{\"argv\": [\"/Users/plewis/opt/anaconda3/envs/uclgeog_core/bin/python\", \"-m\", \"ipykernel_launcher\", \"-f\", \"{connection_file}\"], \"env\": {\"NASA_API_KEY\": \"lcX6tLxwsS3BGx36GwHtQp6BbVqMqMGfIepdJ9tZ\"}, \"display_name\": \"Uclgeog Msc Core\", \"language\": \"python\", \"interrupt_mode\": \"signal\", \"metadata\": {}}'"
      ]
     },
     "execution_count": 173,
     "metadata": {},
     "output_type": "execute_result"
    }
   ],
   "source": [
    "Path(spec.resource_dir).parent.mkdir(parents=True, exist_ok=True)\n",
    "jspec = spec.to_json()\n",
    "with open(kernel, 'w') as f:\n",
    "    jspec.dump(setup,f)"
   ]
  },
  {
   "cell_type": "code",
   "execution_count": 143,
   "metadata": {},
   "outputs": [
    {
     "data": {
      "text/plain": [
       "'/Users/plewis/opt/anaconda3/envs/uclgeog_core/share/jupyter/kernels/python3'"
      ]
     },
     "execution_count": 143,
     "metadata": {},
     "output_type": "execute_result"
    }
   ],
   "source": [
    "kernelspec.find_kernel_specs()['python3']"
   ]
  },
  {
   "cell_type": "code",
   "execution_count": 43,
   "metadata": {},
   "outputs": [
    {
     "ename": "JSONDecodeError",
     "evalue": "Expecting value: line 1 column 1 (char 0)",
     "output_type": "error",
     "traceback": [
      "\u001b[0;31m---------------------------------------------------------------------------\u001b[0m",
      "\u001b[0;31mJSONDecodeError\u001b[0m                           Traceback (most recent call last)",
      "\u001b[0;32m<ipython-input-43-63711d3b9793>\u001b[0m in \u001b[0;36m<module>\u001b[0;34m\u001b[0m\n\u001b[0;32m----> 1\u001b[0;31m \u001b[0mspec\u001b[0m \u001b[0;34m=\u001b[0m \u001b[0mkernelspec\u001b[0m\u001b[0;34m.\u001b[0m\u001b[0mget_kernel_spec\u001b[0m\u001b[0;34m(\u001b[0m\u001b[0;34m'uclgeog_core'\u001b[0m\u001b[0;34m)\u001b[0m\u001b[0;34m\u001b[0m\u001b[0;34m\u001b[0m\u001b[0m\n\u001b[0m",
      "\u001b[0;32m~/opt/anaconda3/envs/uclgeog_core/lib/python3.8/site-packages/jupyter_client/kernelspec.py\u001b[0m in \u001b[0;36mget_kernel_spec\u001b[0;34m(kernel_name)\u001b[0m\n\u001b[1;32m    364\u001b[0m     \u001b[0mRaises\u001b[0m \u001b[0mKeyError\u001b[0m \u001b[0;32mif\u001b[0m \u001b[0mthe\u001b[0m \u001b[0mgiven\u001b[0m \u001b[0mkernel\u001b[0m \u001b[0mname\u001b[0m \u001b[0;32mis\u001b[0m \u001b[0;32mnot\u001b[0m \u001b[0mfound\u001b[0m\u001b[0;34m.\u001b[0m\u001b[0;34m\u001b[0m\u001b[0;34m\u001b[0m\u001b[0m\n\u001b[1;32m    365\u001b[0m     \"\"\"\n\u001b[0;32m--> 366\u001b[0;31m     \u001b[0;32mreturn\u001b[0m \u001b[0mKernelSpecManager\u001b[0m\u001b[0;34m(\u001b[0m\u001b[0;34m)\u001b[0m\u001b[0;34m.\u001b[0m\u001b[0mget_kernel_spec\u001b[0m\u001b[0;34m(\u001b[0m\u001b[0mkernel_name\u001b[0m\u001b[0;34m)\u001b[0m\u001b[0;34m\u001b[0m\u001b[0;34m\u001b[0m\u001b[0m\n\u001b[0m\u001b[1;32m    367\u001b[0m \u001b[0;34m\u001b[0m\u001b[0m\n\u001b[1;32m    368\u001b[0m def install_kernel_spec(source_dir, kernel_name=None, user=False, replace=False,\n",
      "\u001b[0;32m~/opt/anaconda3/envs/uclgeog_core/lib/python3.8/site-packages/jupyter_client/kernelspec.py\u001b[0m in \u001b[0;36mget_kernel_spec\u001b[0;34m(self, kernel_name)\u001b[0m\n\u001b[1;32m    235\u001b[0m             \u001b[0;32mraise\u001b[0m \u001b[0mNoSuchKernel\u001b[0m\u001b[0;34m(\u001b[0m\u001b[0mkernel_name\u001b[0m\u001b[0;34m)\u001b[0m\u001b[0;34m\u001b[0m\u001b[0;34m\u001b[0m\u001b[0m\n\u001b[1;32m    236\u001b[0m \u001b[0;34m\u001b[0m\u001b[0m\n\u001b[0;32m--> 237\u001b[0;31m         \u001b[0;32mreturn\u001b[0m \u001b[0mself\u001b[0m\u001b[0;34m.\u001b[0m\u001b[0m_get_kernel_spec_by_name\u001b[0m\u001b[0;34m(\u001b[0m\u001b[0mkernel_name\u001b[0m\u001b[0;34m,\u001b[0m \u001b[0mresource_dir\u001b[0m\u001b[0;34m)\u001b[0m\u001b[0;34m\u001b[0m\u001b[0;34m\u001b[0m\u001b[0m\n\u001b[0m\u001b[1;32m    238\u001b[0m \u001b[0;34m\u001b[0m\u001b[0m\n\u001b[1;32m    239\u001b[0m     \u001b[0;32mdef\u001b[0m \u001b[0mget_all_specs\u001b[0m\u001b[0;34m(\u001b[0m\u001b[0mself\u001b[0m\u001b[0;34m)\u001b[0m\u001b[0;34m:\u001b[0m\u001b[0;34m\u001b[0m\u001b[0;34m\u001b[0m\u001b[0m\n",
      "\u001b[0;32m~/opt/anaconda3/envs/uclgeog_core/lib/python3.8/site-packages/jupyter_client/kernelspec.py\u001b[0m in \u001b[0;36m_get_kernel_spec_by_name\u001b[0;34m(self, kernel_name, resource_dir)\u001b[0m\n\u001b[1;32m    198\u001b[0m                     \u001b[0;32mreturn\u001b[0m \u001b[0mself\u001b[0m\u001b[0;34m.\u001b[0m\u001b[0mkernel_spec_class\u001b[0m\u001b[0;34m(\u001b[0m\u001b[0mresource_dir\u001b[0m\u001b[0;34m=\u001b[0m\u001b[0mresource_dir\u001b[0m\u001b[0;34m,\u001b[0m \u001b[0;34m**\u001b[0m\u001b[0mget_kernel_dict\u001b[0m\u001b[0;34m(\u001b[0m\u001b[0;34m)\u001b[0m\u001b[0;34m)\u001b[0m\u001b[0;34m\u001b[0m\u001b[0;34m\u001b[0m\u001b[0m\n\u001b[1;32m    199\u001b[0m \u001b[0;34m\u001b[0m\u001b[0m\n\u001b[0;32m--> 200\u001b[0;31m         \u001b[0;32mreturn\u001b[0m \u001b[0mself\u001b[0m\u001b[0;34m.\u001b[0m\u001b[0mkernel_spec_class\u001b[0m\u001b[0;34m.\u001b[0m\u001b[0mfrom_resource_dir\u001b[0m\u001b[0;34m(\u001b[0m\u001b[0mresource_dir\u001b[0m\u001b[0;34m)\u001b[0m\u001b[0;34m\u001b[0m\u001b[0;34m\u001b[0m\u001b[0m\n\u001b[0m\u001b[1;32m    201\u001b[0m \u001b[0;34m\u001b[0m\u001b[0m\n\u001b[1;32m    202\u001b[0m     \u001b[0;32mdef\u001b[0m \u001b[0m_find_spec_directory\u001b[0m\u001b[0;34m(\u001b[0m\u001b[0mself\u001b[0m\u001b[0;34m,\u001b[0m \u001b[0mkernel_name\u001b[0m\u001b[0;34m)\u001b[0m\u001b[0;34m:\u001b[0m\u001b[0;34m\u001b[0m\u001b[0;34m\u001b[0m\u001b[0m\n",
      "\u001b[0;32m~/opt/anaconda3/envs/uclgeog_core/lib/python3.8/site-packages/jupyter_client/kernelspec.py\u001b[0m in \u001b[0;36mfrom_resource_dir\u001b[0;34m(cls, resource_dir)\u001b[0m\n\u001b[1;32m     44\u001b[0m         \u001b[0mkernel_file\u001b[0m \u001b[0;34m=\u001b[0m \u001b[0mpjoin\u001b[0m\u001b[0;34m(\u001b[0m\u001b[0mresource_dir\u001b[0m\u001b[0;34m,\u001b[0m \u001b[0;34m'kernel.json'\u001b[0m\u001b[0;34m)\u001b[0m\u001b[0;34m\u001b[0m\u001b[0;34m\u001b[0m\u001b[0m\n\u001b[1;32m     45\u001b[0m         \u001b[0;32mwith\u001b[0m \u001b[0mio\u001b[0m\u001b[0;34m.\u001b[0m\u001b[0mopen\u001b[0m\u001b[0;34m(\u001b[0m\u001b[0mkernel_file\u001b[0m\u001b[0;34m,\u001b[0m \u001b[0;34m'r'\u001b[0m\u001b[0;34m,\u001b[0m \u001b[0mencoding\u001b[0m\u001b[0;34m=\u001b[0m\u001b[0;34m'utf-8'\u001b[0m\u001b[0;34m)\u001b[0m \u001b[0;32mas\u001b[0m \u001b[0mf\u001b[0m\u001b[0;34m:\u001b[0m\u001b[0;34m\u001b[0m\u001b[0;34m\u001b[0m\u001b[0m\n\u001b[0;32m---> 46\u001b[0;31m             \u001b[0mkernel_dict\u001b[0m \u001b[0;34m=\u001b[0m \u001b[0mjson\u001b[0m\u001b[0;34m.\u001b[0m\u001b[0mload\u001b[0m\u001b[0;34m(\u001b[0m\u001b[0mf\u001b[0m\u001b[0;34m)\u001b[0m\u001b[0;34m\u001b[0m\u001b[0;34m\u001b[0m\u001b[0m\n\u001b[0m\u001b[1;32m     47\u001b[0m         \u001b[0;32mreturn\u001b[0m \u001b[0mcls\u001b[0m\u001b[0;34m(\u001b[0m\u001b[0mresource_dir\u001b[0m\u001b[0;34m=\u001b[0m\u001b[0mresource_dir\u001b[0m\u001b[0;34m,\u001b[0m \u001b[0;34m**\u001b[0m\u001b[0mkernel_dict\u001b[0m\u001b[0;34m)\u001b[0m\u001b[0;34m\u001b[0m\u001b[0;34m\u001b[0m\u001b[0m\n\u001b[1;32m     48\u001b[0m \u001b[0;34m\u001b[0m\u001b[0m\n",
      "\u001b[0;32m~/opt/anaconda3/envs/uclgeog_core/lib/python3.8/json/__init__.py\u001b[0m in \u001b[0;36mload\u001b[0;34m(fp, cls, object_hook, parse_float, parse_int, parse_constant, object_pairs_hook, **kw)\u001b[0m\n\u001b[1;32m    291\u001b[0m     \u001b[0mkwarg\u001b[0m\u001b[0;34m;\u001b[0m \u001b[0motherwise\u001b[0m\u001b[0;31m \u001b[0m\u001b[0;31m`\u001b[0m\u001b[0;31m`\u001b[0m\u001b[0mJSONDecoder\u001b[0m\u001b[0;31m`\u001b[0m\u001b[0;31m`\u001b[0m \u001b[0;32mis\u001b[0m \u001b[0mused\u001b[0m\u001b[0;34m.\u001b[0m\u001b[0;34m\u001b[0m\u001b[0;34m\u001b[0m\u001b[0m\n\u001b[1;32m    292\u001b[0m     \"\"\"\n\u001b[0;32m--> 293\u001b[0;31m     return loads(fp.read(),\n\u001b[0m\u001b[1;32m    294\u001b[0m         \u001b[0mcls\u001b[0m\u001b[0;34m=\u001b[0m\u001b[0mcls\u001b[0m\u001b[0;34m,\u001b[0m \u001b[0mobject_hook\u001b[0m\u001b[0;34m=\u001b[0m\u001b[0mobject_hook\u001b[0m\u001b[0;34m,\u001b[0m\u001b[0;34m\u001b[0m\u001b[0;34m\u001b[0m\u001b[0m\n\u001b[1;32m    295\u001b[0m         \u001b[0mparse_float\u001b[0m\u001b[0;34m=\u001b[0m\u001b[0mparse_float\u001b[0m\u001b[0;34m,\u001b[0m \u001b[0mparse_int\u001b[0m\u001b[0;34m=\u001b[0m\u001b[0mparse_int\u001b[0m\u001b[0;34m,\u001b[0m\u001b[0;34m\u001b[0m\u001b[0;34m\u001b[0m\u001b[0m\n",
      "\u001b[0;32m~/opt/anaconda3/envs/uclgeog_core/lib/python3.8/json/__init__.py\u001b[0m in \u001b[0;36mloads\u001b[0;34m(s, cls, object_hook, parse_float, parse_int, parse_constant, object_pairs_hook, **kw)\u001b[0m\n\u001b[1;32m    355\u001b[0m             \u001b[0mparse_int\u001b[0m \u001b[0;32mis\u001b[0m \u001b[0;32mNone\u001b[0m \u001b[0;32mand\u001b[0m \u001b[0mparse_float\u001b[0m \u001b[0;32mis\u001b[0m \u001b[0;32mNone\u001b[0m \u001b[0;32mand\u001b[0m\u001b[0;34m\u001b[0m\u001b[0;34m\u001b[0m\u001b[0m\n\u001b[1;32m    356\u001b[0m             parse_constant is None and object_pairs_hook is None and not kw):\n\u001b[0;32m--> 357\u001b[0;31m         \u001b[0;32mreturn\u001b[0m \u001b[0m_default_decoder\u001b[0m\u001b[0;34m.\u001b[0m\u001b[0mdecode\u001b[0m\u001b[0;34m(\u001b[0m\u001b[0ms\u001b[0m\u001b[0;34m)\u001b[0m\u001b[0;34m\u001b[0m\u001b[0;34m\u001b[0m\u001b[0m\n\u001b[0m\u001b[1;32m    358\u001b[0m     \u001b[0;32mif\u001b[0m \u001b[0mcls\u001b[0m \u001b[0;32mis\u001b[0m \u001b[0;32mNone\u001b[0m\u001b[0;34m:\u001b[0m\u001b[0;34m\u001b[0m\u001b[0;34m\u001b[0m\u001b[0m\n\u001b[1;32m    359\u001b[0m         \u001b[0mcls\u001b[0m \u001b[0;34m=\u001b[0m \u001b[0mJSONDecoder\u001b[0m\u001b[0;34m\u001b[0m\u001b[0;34m\u001b[0m\u001b[0m\n",
      "\u001b[0;32m~/opt/anaconda3/envs/uclgeog_core/lib/python3.8/json/decoder.py\u001b[0m in \u001b[0;36mdecode\u001b[0;34m(self, s, _w)\u001b[0m\n\u001b[1;32m    335\u001b[0m \u001b[0;34m\u001b[0m\u001b[0m\n\u001b[1;32m    336\u001b[0m         \"\"\"\n\u001b[0;32m--> 337\u001b[0;31m         \u001b[0mobj\u001b[0m\u001b[0;34m,\u001b[0m \u001b[0mend\u001b[0m \u001b[0;34m=\u001b[0m \u001b[0mself\u001b[0m\u001b[0;34m.\u001b[0m\u001b[0mraw_decode\u001b[0m\u001b[0;34m(\u001b[0m\u001b[0ms\u001b[0m\u001b[0;34m,\u001b[0m \u001b[0midx\u001b[0m\u001b[0;34m=\u001b[0m\u001b[0m_w\u001b[0m\u001b[0;34m(\u001b[0m\u001b[0ms\u001b[0m\u001b[0;34m,\u001b[0m \u001b[0;36m0\u001b[0m\u001b[0;34m)\u001b[0m\u001b[0;34m.\u001b[0m\u001b[0mend\u001b[0m\u001b[0;34m(\u001b[0m\u001b[0;34m)\u001b[0m\u001b[0;34m)\u001b[0m\u001b[0;34m\u001b[0m\u001b[0;34m\u001b[0m\u001b[0m\n\u001b[0m\u001b[1;32m    338\u001b[0m         \u001b[0mend\u001b[0m \u001b[0;34m=\u001b[0m \u001b[0m_w\u001b[0m\u001b[0;34m(\u001b[0m\u001b[0ms\u001b[0m\u001b[0;34m,\u001b[0m \u001b[0mend\u001b[0m\u001b[0;34m)\u001b[0m\u001b[0;34m.\u001b[0m\u001b[0mend\u001b[0m\u001b[0;34m(\u001b[0m\u001b[0;34m)\u001b[0m\u001b[0;34m\u001b[0m\u001b[0;34m\u001b[0m\u001b[0m\n\u001b[1;32m    339\u001b[0m         \u001b[0;32mif\u001b[0m \u001b[0mend\u001b[0m \u001b[0;34m!=\u001b[0m \u001b[0mlen\u001b[0m\u001b[0;34m(\u001b[0m\u001b[0ms\u001b[0m\u001b[0;34m)\u001b[0m\u001b[0;34m:\u001b[0m\u001b[0;34m\u001b[0m\u001b[0;34m\u001b[0m\u001b[0m\n",
      "\u001b[0;32m~/opt/anaconda3/envs/uclgeog_core/lib/python3.8/json/decoder.py\u001b[0m in \u001b[0;36mraw_decode\u001b[0;34m(self, s, idx)\u001b[0m\n\u001b[1;32m    353\u001b[0m             \u001b[0mobj\u001b[0m\u001b[0;34m,\u001b[0m \u001b[0mend\u001b[0m \u001b[0;34m=\u001b[0m \u001b[0mself\u001b[0m\u001b[0;34m.\u001b[0m\u001b[0mscan_once\u001b[0m\u001b[0;34m(\u001b[0m\u001b[0ms\u001b[0m\u001b[0;34m,\u001b[0m \u001b[0midx\u001b[0m\u001b[0;34m)\u001b[0m\u001b[0;34m\u001b[0m\u001b[0;34m\u001b[0m\u001b[0m\n\u001b[1;32m    354\u001b[0m         \u001b[0;32mexcept\u001b[0m \u001b[0mStopIteration\u001b[0m \u001b[0;32mas\u001b[0m \u001b[0merr\u001b[0m\u001b[0;34m:\u001b[0m\u001b[0;34m\u001b[0m\u001b[0;34m\u001b[0m\u001b[0m\n\u001b[0;32m--> 355\u001b[0;31m             \u001b[0;32mraise\u001b[0m \u001b[0mJSONDecodeError\u001b[0m\u001b[0;34m(\u001b[0m\u001b[0;34m\"Expecting value\"\u001b[0m\u001b[0;34m,\u001b[0m \u001b[0ms\u001b[0m\u001b[0;34m,\u001b[0m \u001b[0merr\u001b[0m\u001b[0;34m.\u001b[0m\u001b[0mvalue\u001b[0m\u001b[0;34m)\u001b[0m \u001b[0;32mfrom\u001b[0m \u001b[0;32mNone\u001b[0m\u001b[0;34m\u001b[0m\u001b[0;34m\u001b[0m\u001b[0m\n\u001b[0m\u001b[1;32m    356\u001b[0m         \u001b[0;32mreturn\u001b[0m \u001b[0mobj\u001b[0m\u001b[0;34m,\u001b[0m \u001b[0mend\u001b[0m\u001b[0;34m\u001b[0m\u001b[0;34m\u001b[0m\u001b[0m\n",
      "\u001b[0;31mJSONDecodeError\u001b[0m: Expecting value: line 1 column 1 (char 0)"
     ]
    }
   ],
   "source": [
    "import sys\n",
    "import json\n",
    "import os\n",
    "from getpass import getpass\n",
    "from pathlib import Path\n",
    "from jupyter_client import kernelspec\n",
    "\n",
    "def get_apikey(keyname='NASA_API_KEY',\n",
    "                 force=False,\n",
    "                 verbose=False,\n",
    "                 bashenv={\n",
    "                     'name' :'.bashrc',\n",
    "                     'split':'=',\n",
    "                     'len'  : 2,\n",
    "                     'value': 1,\n",
    "                     'key'  : 0\n",
    "                 },\n",
    "                 store=True,\n",
    "                 database='uclgeog_core'):\n",
    "    '''\n",
    "    Method to get API key if it exists\n",
    "    or prompt for it otherwise.\n",
    "    \n",
    "    Checklist of places to look:\n",
    "    - os.getenv(keyname)\n",
    "    - ~/.bashrc\n",
    "      as environment variable\n",
    "      of form: \n",
    "          NASA_API_KEY=1234567ghts\n",
    "      The interpretation is configurable to allow for other shells\n",
    "      via the parameters\n",
    "                 bashenv={\n",
    "                     'name' :'.bashrc',\n",
    "                     'split':'=',\n",
    "                     'len'  : 2,\n",
    "                     'value': 1,\n",
    "                     'key'  : 0,\n",
    "                 }\n",
    "    - jupyter kernel file\n",
    "        f'{sys.prefix}/share/jupyter/kernels/{database}/kernel.json'\n",
    "        \n",
    "    Result is stored in:\n",
    "    - jupyter kernel file\n",
    "        f'{sys.prefix}/share/jupyter/kernels/{database}/kernel.json'\n",
    "    '''\n",
    "    # try to getenv the key\n",
    "    keyvalue = None\n",
    "    if keyvalue is None:\n",
    "        try:\n",
    "            keyvalue=os.getenv(keyname)     \n",
    "        except:\n",
    "            pass\n",
    "\n",
    "    # read ${HOME}/.bashrc\n",
    "    # take the last entry\n",
    "    if keyvalue is None:\n",
    "        try:\n",
    "            kernel = Path.home() / bashenv['name']\n",
    "            with(open(kernel,'r')) as f:\n",
    "                for line in f.readlines()\n",
    "                    s = line.rstrip().split(bashenv['split'])\n",
    "                    if (s[bashenv['key']] == keyname) and len(s) == bashenv['len']:\n",
    "                        keyvalue = s[bashenv['value']]\n",
    "        except:\n",
    "            pass\n",
    "    \n",
    "    if keyvalue is None:\n",
    "        # next, look in \n",
    "        # check in database json file\n",
    "        # see \n",
    "        # https://jupyter-client.readthedocs.io/en/stable/kernels.html#kernel-specs\n",
    "        try:\n",
    "            kernel = kernelspec.get_kernel_spec(database).resource_dir\n",
    "            # try this database json \n",
    "            with open(kernel, 'r') as f:\n",
    "                setup = json.load(f)\n",
    "            # init\n",
    "            if 'env' not in setup:\n",
    "                setup['env'] = {}\n",
    "            envdict = setup['env']\n",
    "            if keyname in envdict:\n",
    "                keyvalue = envdict[keyname]\n",
    "    except:\n",
    "            pass\n",
    "        \n",
    "    if store:\n",
    "        try:\n",
    "            # load info from database\n",
    "            try:\n",
    "                kernel = f'{sys.prefix}/share/jupyter/kernels/{database}/kernel.json'\n",
    "                with open(kernel, 'r') as f:\n",
    "                    setup = json.load(f)\n",
    "            # load from python3 kernel\n",
    "            except:\n",
    "                kernel = f'{sys.prefix}/share/jupyter/kernels/python3/kernel.json'\n",
    "                with open(kernel, 'r') as f:\n",
    "                    setup = json.load(f)\n",
    "            "
   ]
  },
  {
   "cell_type": "code",
   "execution_count": 73,
   "metadata": {},
   "outputs": [
    {
     "name": "stdout",
     "output_type": "stream",
     "text": [
      "cc\n"
     ]
    }
   ],
   "source": [
    "print(database)"
   ]
  },
  {
   "cell_type": "code",
   "execution_count": 218,
   "metadata": {},
   "outputs": [
    {
     "data": {
      "text/plain": [
       "2802"
      ]
     },
     "execution_count": 218,
     "metadata": {},
     "output_type": "execute_result"
    }
   ],
   "source": [
    "def \n"
   ]
  },
  {
   "cell_type": "code",
   "execution_count": null,
   "metadata": {},
   "outputs": [],
   "source": []
  }
 ],
 "metadata": {
  "kernelspec": {
   "display_name": "Python 3",
   "language": "python",
   "name": "python3"
  },
  "language_info": {
   "codemirror_mode": {
    "name": "ipython",
    "version": 3
   },
   "file_extension": ".py",
   "mimetype": "text/x-python",
   "name": "python",
   "nbconvert_exporter": "python",
   "pygments_lexer": "ipython3",
   "version": "3.7.6"
  },
  "varInspector": {
   "cols": {
    "lenName": 16,
    "lenType": 16,
    "lenVar": 40
   },
   "kernels_config": {
    "python": {
     "delete_cmd_postfix": "",
     "delete_cmd_prefix": "del ",
     "library": "var_list.py",
     "varRefreshCmd": "print(var_dic_list())"
    },
    "r": {
     "delete_cmd_postfix": ") ",
     "delete_cmd_prefix": "rm(",
     "library": "var_list.r",
     "varRefreshCmd": "cat(var_dic_list()) "
    }
   },
   "types_to_exclude": [
    "module",
    "function",
    "builtin_function_or_method",
    "instance",
    "_Feature"
   ],
   "window_display": false
  }
 },
 "nbformat": 4,
 "nbformat_minor": 4
}
