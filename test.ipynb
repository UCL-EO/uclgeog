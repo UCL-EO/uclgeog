{
 "cells": [
  {
   "cell_type": "markdown",
   "metadata": {},
   "source": [
    "<html>\n",
    "<table style=\"width:100%\" align=\"center\" border=\"0px white\">\n",
    "<tr></td>\n",
    "<td><a href=\"https://colab.research.google.com/github/profLewis/uclgeog_msc_core/blob/master/test.ipynb\">\n",
    "         <img alt=\"Open In Colab\" src=\"https://colab.research.google.com/assets/colab-badge.svg\"\n",
    "         height=70\">\n",
    "</a>\n",
    "<td><a href=\"https://mybinder.org/v2/gh/profLewis/uclgeog_msc_core/master?filepath=test.ipynb\">\n",
    "         <img alt=\"Binder\" src=\"https://mybinder.org/badge_logo.svg\"\n",
    "         height=70\">\n",
    "</a></td>                               \n",
    "<td><a href=\"https://github.com/profLewis/uclgeog_msc_core/blob/master/test.ipynb\">\n",
    "         <img alt=\"View in github\" src=\"https://img.shields.io/static/v1?logo=github&label=View%20in&message=github&color=green\"\n",
    "         height=70\">\n",
    "</a></td>    \n",
    "<td><a href=\"https://nbviewer.jupyter.org/github/profLewis/uclgeog_msc_core/blob/master/test.ipynb\">\n",
    "         <img alt=\"View in nbviewer\" src=\"https://img.shields.io/static/v1?logo=jupyter&label=View%20in&message=nbviewer&color=blue\"\n",
    "         height=70\">\n",
    "</a></td>    \n",
    "    </tr>\n",
    "    </table>\n",
    "    \n",
    "<img alt=\"UCL\" src=\"images/ucl_logo.png\">\n",
    "</html>"
   ]
  },
  {
   "cell_type": "markdown",
   "metadata": {},
   "source": [
    "\n",
    "## Purpose\n",
    "\n",
    "This is a jupyter notebook designed to let you get used to notebooks, and to test your python and notebooks installation.\n",
    "\n",
    "You can find much information on using notebooks on the [web](https://jupyter.org/), so you might start by exploring some of that.\n",
    "\n",
    "## How we will be using notebooks\n",
    "\n",
    "We will be using notebooks to present coursenotes and view and run exercises. We will mainly be doing that using the [anaconda distribution of python](https://anaconda.org/anaconda/python). This should already be installed for you if you are viewing this, but we will runs some tests below just to make sure.\n",
    "\n",
    "The notebook is made up of a series of [cells](https://jupyter-notebook.readthedocs.io/en/stable/notebook.html#:~:text=A%20cell%20is%20a%20multiline,markdown%20cells%2C%20and%20raw%20cells). Some cells, such as the one this is written in, are 'text' cells, where we format the text in a language called [markdown](https://jupyter-notebook.readthedocs.io/en/stable/examples/Notebook/Working%20With%20Markdown%20Cells.html).\n",
    "\n"
   ]
  },
  {
   "cell_type": "markdown",
   "metadata": {
    "solution2": "hidden",
    "solution2_first": true
   },
   "source": [
    "### Exercise: add a cell\n",
    "\n",
    "We can add new cells to this document via the `Insert -> Insert Cell Below` menu in the menu bar at the top of this document.\n",
    "\n",
    "Notice that you can double click on a cell to edit its contents.\n",
    "\n",
    "Add a cell now, below, and use the `Cell -> Cell Type` menu to make this cell type `markdown`. Add some text in there ... lyrics from your favourite song, whatever comes into your head ...\n"
   ]
  },
  {
   "cell_type": "markdown",
   "metadata": {
    "solution2": "hidden"
   },
   "source": [
    "Here is some text I typed!!\n",
    "\n",
    "The first time ever I saw your face ..."
   ]
  },
  {
   "cell_type": "markdown",
   "metadata": {},
   "source": [
    "### Exercise: add some cell formatting\n"
   ]
  },
  {
   "cell_type": "markdown",
   "metadata": {
    "solution2": "hidden",
    "solution2_first": true
   },
   "source": [
    "\n",
    "Add another cell now, below, and use the Cell -> Cell Type menu to make this cell type markdown. \n",
    "\n",
    "This time, include one or more of the [following features](https://github.com/adam-p/markdown-here/wiki/Markdown-Cheatsheet):\n",
    "\n",
    "* a heading\n",
    "* a sub-heading\n",
    "* and equation\n",
    "* links to a web page\n",
    "* a table\n",
    "* a image\n",
    "* some html"
   ]
  },
  {
   "cell_type": "markdown",
   "metadata": {},
   "source": [
    "## Coding\n",
    "\n",
    "Next, let's try a code cell and do our first python coding.\n",
    "\n",
    "We will use the method `print()` to print out a `string` (a list of characters), for example:"
   ]
  },
  {
   "cell_type": "code",
   "execution_count": 1,
   "metadata": {},
   "outputs": [
    {
     "name": "stdout",
     "output_type": "stream",
     "text": [
      "hello world\n"
     ]
    }
   ],
   "source": [
    "# comment with a hash\n",
    "\n",
    "# set a string variable\n",
    "string = \"hello world\"\n",
    "\n",
    "# print this\n",
    "print(string)"
   ]
  },
  {
   "cell_type": "markdown",
   "metadata": {
    "solution2": "hidden",
    "solution2_first": true
   },
   "source": [
    "The type of cell we use is `Code` (rather than `Markdown` above).\n",
    "\n",
    "We *execute* ('run') the code in the cell, either with the `|> Run` button above, or by pressing the `SHIFT RETURN` keys at the same time. \n",
    "\n",
    "Try that out, running the code cell above.\n",
    "\n",
    "## Exercise\n",
    "\n",
    "Now:\n",
    "\n",
    "* create a code cell below\n",
    "* create a string with the text `hello again`\n",
    "* call the `print()` method with this as an [argument](https://en.wikipedia.org/wiki/Parameter_(computer_programming))\n",
    "* run the cell "
   ]
  },
  {
   "cell_type": "markdown",
   "metadata": {},
   "source": [
    "## Code test\n",
    "\n",
    "One purpose of this notebook is to test if the code associated with the setup of `uclgeog_msc_core` is working properly. "
   ]
  },
  {
   "cell_type": "code",
   "execution_count": null,
   "metadata": {},
   "outputs": [],
   "source": []
  },
  {
   "cell_type": "code",
   "execution_count": 7,
   "metadata": {},
   "outputs": [],
   "source": [
    "import uclgeog_msc_core"
   ]
  },
  {
   "cell_type": "markdown",
   "metadata": {},
   "source": [
    "## What else?\n",
    "\n",
    "There is a lot more you can do in a notebook. \n",
    "\n",
    "One thing you might explore is the use of [cell magics](https://ipython.readthedocs.io/en/stable/interactive/magics.html) that allow you to all sorts of interesting things.\n",
    "\n",
    "One example is `%%bash`, which allows us to specify [`bash` shells](https://www.gnu.org/software/bash/) ... sometimes, some things are just easier to achieve in one language than another, and it's always good to know more than one way of doing anything.\n"
   ]
  },
  {
   "cell_type": "code",
   "execution_count": 5,
   "metadata": {},
   "outputs": [
    {
     "name": "stdout",
     "output_type": "stream",
     "text": [
      "hello world\n"
     ]
    }
   ],
   "source": [
    "%%bash \n",
    "# my first bash shell\n",
    "string='hello world'\n",
    "echo $string"
   ]
  },
  {
   "cell_type": "markdown",
   "metadata": {},
   "source": [
    "## Summary\n",
    "\n",
    "This notebook is designed mainly as a test that the setup for these notes is working.\n",
    "\n",
    "We have also used it to introduce some features of notebooks, and our very first `python` (and `bash`) codes!"
   ]
  },
  {
   "cell_type": "markdown",
   "metadata": {
    "solution2": "hidden"
   },
   "source": [
    "# Main Heading\n",
    "\n",
    "## equation\n",
    "\n",
    "\\begin{equation*}\n",
    "\\left( \\sum_{k=1}^n a_k b_k \\right)^2 \\leq \\left( \\sum_{k=1}^n a_k^2 \\right) \\left( \\sum_{k=1}^n b_k^2 \\right)\n",
    "\\end{equation*}\n",
    "\n",
    "### link\n",
    "\n",
    "[click me and I will pop up a google search window](https://www.google.com)\n",
    "\n",
    "### table\n",
    "\n",
    "| a | b | c | d | e |\n",
    "|:-:|:-:|:-:|:-:|-|\n",
    "| 🙈 | 💥 | 🦧 | 🐇 | 🐪 |\n",
    "| f | g | h | i | j |\n",
    "| 🙈 | 💥 | 🦧 | 🐇 | 🐪 |\n",
    "\n",
    "### image\n",
    "\n",
    "![ucl logo](images/ucl_logo.png)\n",
    "\n",
    "\n",
    "### html\n",
    "\n",
    "From [https://www.w3schools.com/html/tryit.asp?filename=tryhtml_form_submit](https://www.w3schools.com/html/tryit.asp?filename=tryhtml_form_submit)\n",
    "\n",
    "<html>\n",
    "<body>\n",
    "\n",
    "<h2>HTML Forms</h2>\n",
    "\n",
    "<form action=\"/action_page.php\">\n",
    "  <label for=\"fname\">First name:</label><br>\n",
    "  <input type=\"text\" id=\"fname\" name=\"fname\" value=\"John\"><br>\n",
    "  <label for=\"lname\">Last name:</label><br>\n",
    "  <input type=\"text\" id=\"lname\" name=\"lname\" value=\"Doe\"><br><br>\n",
    "  <input type=\"submit\" value=\"Submit\">\n",
    "</form> \n",
    "\n",
    "<p>If you click the \"Submit\" button, the form-data will be sent to a page called \"/action_page.php\".</p>\n",
    "\n",
    "</body>\n",
    "</html>"
   ]
  }
 ],
 "metadata": {
  "gist": {
   "data": {
    "description": "Chapter0_help.ipynb",
    "public": true
   },
   "id": ""
  },
  "hide_input": false,
  "kernelspec": {
   "display_name": "Python 3",
   "language": "python",
   "name": "python3"
  },
  "language_info": {
   "codemirror_mode": {
    "name": "ipython",
    "version": 3
   },
   "file_extension": ".py",
   "mimetype": "text/x-python",
   "name": "python",
   "nbconvert_exporter": "python",
   "pygments_lexer": "ipython3",
   "version": "3.7.6"
  },
  "latex_envs": {
   "LaTeX_envs_menu_present": true,
   "autocomplete": true,
   "bibliofile": "biblio.bib",
   "cite_by": "apalike",
   "current_citInitial": 1,
   "eqLabelWithNumbers": true,
   "eqNumInitial": 1,
   "hotkeys": {
    "equation": "Ctrl-E",
    "itemize": "Ctrl-I"
   },
   "labels_anchors": false,
   "latex_user_defs": false,
   "report_style_numbering": false,
   "user_envs_cfg": false
  },
  "toc": {
   "base_numbering": "1.1",
   "nav_menu": {},
   "number_sections": false,
   "sideBar": true,
   "skip_h1_title": false,
   "title_cell": "Table of Contents",
   "title_sidebar": "Contents",
   "toc_cell": false,
   "toc_position": {
    "height": "calc(100% - 180px)",
    "left": "10px",
    "top": "150px",
    "width": "207px"
   },
   "toc_section_display": true,
   "toc_window_display": false
  },
  "varInspector": {
   "cols": {
    "lenName": 16,
    "lenType": 16,
    "lenVar": 40
   },
   "kernels_config": {
    "python": {
     "delete_cmd_postfix": "",
     "delete_cmd_prefix": "del ",
     "library": "var_list.py",
     "varRefreshCmd": "print(var_dic_list())"
    },
    "r": {
     "delete_cmd_postfix": ") ",
     "delete_cmd_prefix": "rm(",
     "library": "var_list.r",
     "varRefreshCmd": "cat(var_dic_list()) "
    }
   },
   "types_to_exclude": [
    "module",
    "function",
    "builtin_function_or_method",
    "instance",
    "_Feature"
   ],
   "window_display": false
  }
 },
 "nbformat": 4,
 "nbformat_minor": 1
}
