{
 "cells": [
  {
   "cell_type": "markdown",
   "metadata": {},
   "source": [
    "<html>\n",
    "<table style=\"width:100%\" align=\"center\" border=\"0px white\">\n",
    "<tr></td>\n",
    "<td><a href=\"https://colab.research.google.com/github/UCL-EO/uclgeog_msc_core/blob/master/test.ipynb\">\n",
    "         <img alt=\"Open In Colab\" src=\"https://colab.research.google.com/assets/colab-badge.svg\">\n",
    "</a>\n",
    "<td><a href=\"https://mybinder.org/v2/gh/UCL-EO/uclgeog_msc_core/master\">\n",
    "         <img alt=\"Binder\" src=\"https://mybinder.org/badge_logo.svg\">\n",
    "</a></td>                               \n",
    "<td><a href=\"https://github.com/UCL-EO/uclgeog_msc_core/blob/master/test.ipynb\">\n",
    "         <img alt=\"View in github\" src=\"https://img.shields.io/static/v1?logo=github&label=View%20in&message=github&color=green\">\n",
    "</a></td>    \n",
    "<td><a href=\"https://nbviewer.jupyter.org/github/UCL-EO/uclgeog_msc_core/blob/master/test.ipynb\">\n",
    "         <img alt=\"View in nbviewer\" src=\"https://img.shields.io/static/v1?logo=jupyter&label=View%20in&message=nbviewer&color=blue\">\n",
    "</a></td>    \n",
    "    </tr>\n",
    "    </table>\n",
    "    \n",
    "<img alt=\"UCL\" src=\"images/ucl_logo.png\">\n",
    "</html>"
   ]
  },
  {
   "cell_type": "markdown",
   "metadata": {},
   "source": [
    "\n",
    "## Purpose\n",
    "\n",
    "This is a jupyter notebook designed to let you get used to notebooks, and to test your python and notebooks installation.\n",
    "\n",
    "You can find much information on using notebooks on the [web](https://jupyter.org/), so you might start by exploring some of that.\n",
    "\n",
    "## How we will be using notebooks\n",
    "\n",
    "We will be using notebooks to present coursenotes and view and run exercises. We will mainly be doing that using the [anaconda distribution of python](https://anaconda.org/anaconda/python). This should already be installed for you if you are viewing this, but we will runs some tests below just to make sure.\n",
    "\n",
    "The notebook is made up of a series of [cells](https://jupyter-notebook.readthedocs.io/en/stable/notebook.html#:~:text=A%20cell%20is%20a%20multiline,markdown%20cells%2C%20and%20raw%20cells). Some cells, such as the one this is written in, are 'text' cells, where we format the text in a language called [markdown](https://jupyter-notebook.readthedocs.io/en/stable/examples/Notebook/Working%20With%20Markdown%20Cells.html).\n",
    "\n"
   ]
  },
  {
   "cell_type": "markdown",
   "metadata": {
    "solution2": "hidden",
    "solution2_first": true
   },
   "source": [
    "### Exercise: add a cell\n",
    "\n",
    "We can add new cells to this document via the `Insert -> Insert Cell Below` menu in the menu bar at the top of this document.\n",
    "\n",
    "Notice that you can double click on a cell to edit its contents.\n",
    "\n",
    "Add a cell now, below, and use the `Cell -> Cell Type` menu to make this cell type `markdown`. Add some text in there ... lyrics from your favourite song, whatever comes into your head ...\n"
   ]
  },
  {
   "cell_type": "markdown",
   "metadata": {
    "solution2": "hidden"
   },
   "source": [
    "Here is some text I typed!!\n",
    "\n",
    "The first time ever I saw your face ..."
   ]
  },
  {
   "cell_type": "markdown",
   "metadata": {},
   "source": [
    "### Exercise: add some cell formatting\n"
   ]
  },
  {
   "cell_type": "markdown",
   "metadata": {
    "solution2": "hidden",
    "solution2_first": true
   },
   "source": [
    "\n",
    "Add another cell now, below, and use the Cell -> Cell Type menu to make this cell type markdown. \n",
    "\n",
    "This time, include one or more of the [following features](https://github.com/adam-p/markdown-here/wiki/Markdown-Cheatsheet):\n",
    "\n",
    "* a heading\n",
    "* a sub-heading\n",
    "* and equation\n",
    "* links to a web page\n",
    "* a table\n",
    "* a image\n",
    "* some html"
   ]
  },
  {
   "cell_type": "markdown",
   "metadata": {},
   "source": [
    "## Coding\n",
    "\n",
    "Next, let's try a code cell and do our first python coding.\n",
    "\n",
    "We will use the method `print()` to print out a `string` (a list of characters), for example:"
   ]
  },
  {
   "cell_type": "code",
   "execution_count": 1,
   "metadata": {},
   "outputs": [
    {
     "name": "stdout",
     "output_type": "stream",
     "text": [
      "hello world\n"
     ]
    }
   ],
   "source": [
    "# comment with a hash\n",
    "\n",
    "# set a string variable\n",
    "string = \"hello world\"\n",
    "\n",
    "# print this\n",
    "print(string)"
   ]
  },
  {
   "cell_type": "markdown",
   "metadata": {
    "solution2": "hidden",
    "solution2_first": true
   },
   "source": [
    "The type of cell we use is `Code` (rather than `Markdown` above).\n",
    "\n",
    "We *execute* ('run') the code in the cell, either with the `|> Run` button above, or by pressing the `SHIFT RETURN` keys at the same time. \n",
    "\n",
    "Try that out, running the code cell above.\n",
    "\n",
    "## Exercise\n",
    "\n",
    "Now:\n",
    "\n",
    "* create a code cell below\n",
    "* create a string with the text `hello again`\n",
    "* call the `print()` method with this as an [argument](https://en.wikipedia.org/wiki/Parameter_(computer_programming))\n",
    "* run the cell "
   ]
  },
  {
   "cell_type": "markdown",
   "metadata": {},
   "source": [
    "## Code test\n",
    "\n",
    "One purpose of this notebook is to test if the code associated with the setup of `uclgeog_msc_core` is working properly. \n",
    "\n",
    "One example of this is the `cylog` class, written to allow easier persistent interface to NASA download servers.\n",
    "\n",
    "First, we import `cylog` from the `uclgeog_msc_core` library:"
   ]
  },
  {
   "cell_type": "code",
   "execution_count": 1,
   "metadata": {},
   "outputs": [],
   "source": [
    "from uclgeog_msc import cylog"
   ]
  },
  {
   "cell_type": "markdown",
   "metadata": {},
   "source": [
    "You should test for yourself that that works. If not, there is a problem importing the `uclgeog_msc_core` library.\n",
    "\n",
    "Assuming that worked, we can look at the `help` method for this class:"
   ]
  },
  {
   "cell_type": "code",
   "execution_count": 2,
   "metadata": {},
   "outputs": [
    {
     "name": "stdout",
     "output_type": "stream",
     "text": [
      "Help on module uclgeog_msc.cylog in uclgeog_msc:\n",
      "\n",
      "NAME\n",
      "    uclgeog_msc.cylog\n",
      "\n",
      "CLASSES\n",
      "    builtins.object\n",
      "        cylog\n",
      "    \n",
      "    class cylog(builtins.object)\n",
      "     |  cylog(init=False, destination_folder='.cylog')\n",
      "     |  \n",
      "     |  cylog provides a mechanism to partially hide username and\n",
      "     |  password information that is required in plain text.\n",
      "     |  \n",
      "     |  It does this by storing a key and the encrypted version in\n",
      "     |  a file accessible only to the user.\n",
      "     |  \n",
      "     |  Of course, when called (by the user) the (username, password)\n",
      "     |  are exposed in plain text, so only use this when you \n",
      "     |  have to enter plain text username/password information.\n",
      "     |  \n",
      "     |  It is written as a utility to allow UCL MSc students to \n",
      "     |  show access to NASA Earthdata dataset download, without \n",
      "     |  the need to expose (username, password) in a submitted report.\n",
      "     |  \n",
      "     |  Stores (in a dictionary in ~/{dest_path}/.cylog.npz) an\n",
      "     |  encrypted form of username and password (and key)\n",
      "     |  \n",
      "     |  Uses cryptography.fernet.Fernet() for encryption\n",
      "     |  \n",
      "     |  cylog().login() : returns plain text tuple\n",
      "     |                    (username, password)\n",
      "     |  \n",
      "     |  Methods defined here:\n",
      "     |  \n",
      "     |  __init__(self, init=False, destination_folder='.cylog')\n",
      "     |      Keyword arguments \n",
      "     |      ----------\n",
      "     |      init: bool\n",
      "     |          to re-initialise the passord/username\n",
      "     |          set to True. This will overwrite any existing password file.\n",
      "     |      \n",
      "     |      destination_folder: str\n",
      "     |          The destination sub-folder, relative to ${HOME}.\n",
      "     |          If this doesnt exist, it is created.\n",
      "     |      \n",
      "     |      \n",
      "     |      \n",
      "     |      when prompted, please supply:\n",
      "     |      \n",
      "     |      username: str\n",
      "     |          The NASA EarthData username\n",
      "     |      password: str\n",
      "     |          The NASA EarthData password\n",
      "     |  \n",
      "     |  login(self)\n",
      "     |      Reads encrypted information from ~/{dest_path}/.cylog.npz\n",
      "     |      \n",
      "     |      Returns\n",
      "     |      --------\n",
      "     |      A tuple containing plain text (username,password)\n",
      "     |  \n",
      "     |  ----------------------------------------------------------------------\n",
      "     |  Data descriptors defined here:\n",
      "     |  \n",
      "     |  __dict__\n",
      "     |      dictionary for instance variables (if defined)\n",
      "     |  \n",
      "     |  __weakref__\n",
      "     |      list of weak references to the object (if defined)\n",
      "\n",
      "DATA\n",
      "    __copyright__ = 'Copyright 2018 P Lewis'\n",
      "    __email__ = 'p.lewis@ucl.ac.uk'\n",
      "    __license__ = 'GPLv3'\n",
      "\n",
      "AUTHOR\n",
      "    P Lewis\n",
      "\n",
      "FILE\n",
      "    /Users/plewis/Documents/GitHub/uclgeog_msc_core/uclgeog_msc/cylog.py\n",
      "\n",
      "\n"
     ]
    }
   ],
   "source": [
    "help(cylog)"
   ]
  },
  {
   "cell_type": "markdown",
   "metadata": {},
   "source": [
    "This gives us a description of what it does and how it works.\n",
    "\n",
    "Before you can use this, you will need to register at the [`NASA EarthData`](https://urs.earthdata.nasa.gov/users/new).\n",
    "\n",
    "Once you have done that, make sure you know your `username` and `password` ready for below.\n",
    "\n",
    "### Earthdata login\n",
    "\n",
    "Run the cell below, and enter your `username` and `password`."
   ]
  },
  {
   "cell_type": "code",
   "execution_count": 19,
   "metadata": {},
   "outputs": [
    {
     "name": "stdout",
     "output_type": "stream",
     "text": [
      "Enter your username: proflewis\n",
      "········\n"
     ]
    }
   ],
   "source": [
    "cy = cylog.cylog(init=True)"
   ]
  },
  {
   "cell_type": "markdown",
   "metadata": {},
   "source": [
    "This stores your username and password in a file that only you can read. We can use this as a convenient way to pull some NASA MODIS data:"
   ]
  },
  {
   "cell_type": "code",
   "execution_count": 39,
   "metadata": {},
   "outputs": [
    {
     "name": "stdout",
     "output_type": "stream",
     "text": [
      "----------------------------------------\n",
      "Help on function get_modis_files in module uclgeog_msc.get_modis_files:\n",
      "\n",
      "get_modis_files(doy, year, tiles, product='MCD15A3H', version=6, destination_folder='data', verbose=False, base_url='https://e4ftl01.cr.usgs.gov/MOTA')\n",
      "    Arguments:\n",
      "    ----------\n",
      "    doy  :   day of year (1 to 365 or 366 inclusive) (int)\n",
      "    year :   year (int)\n",
      "    tiles:   list of tiles\n",
      "    \n",
      "    Keyword arguments: \n",
      "    ------------------\n",
      "    verbose:  priont some useful information\n",
      "    product:  MODIS product e.g. MCD15A3H as string\n",
      "    base_url: dataset base URL e.g. https://e4ftl01.cr.usgs.gov/MOTA\n",
      "              as string\n",
      "    version:  dataset version number (integer) e.g. 6\n",
      "    destination_folder:  destination folder\n",
      "\n",
      "----------------------------------------\n",
      "Help on function create_gdal_friendly_names in module uclgeog_msc.process_timeseries:\n",
      "\n",
      "create_gdal_friendly_names(filenames, layer, product='MCD15A3H')\n",
      "\n",
      "----------------------------------------\n",
      "Help on function find_mcdfiles in module uclgeog_msc.process_timeseries:\n",
      "\n",
      "find_mcdfiles(year, doy, tiles, folder, product='MCD15A3H')\n",
      "\n"
     ]
    }
   ],
   "source": [
    "from uclgeog_msc.get_modis_files import get_modis_files\n",
    "from uclgeog_msc.process_timeseries import create_gdal_friendly_names,find_mcdfiles\n",
    "\n",
    "print('-'*40)\n",
    "help(get_modis_files)\n",
    "print('-'*40)\n",
    "help(create_gdal_friendly_names)\n",
    "print('-'*40)\n",
    "help(find_mcdfiles)"
   ]
  },
  {
   "cell_type": "code",
   "execution_count": 40,
   "metadata": {},
   "outputs": [
    {
     "name": "stdout",
     "output_type": "stream",
     "text": [
      "MCD15A3H.A2020081.h11v03.006.2020086032313.hdf\n",
      "data/MCD15A3H.A2020081.h11v03.006.2020086032313.hdf exists\n"
     ]
    },
    {
     "data": {
      "text/plain": [
       "<matplotlib.colorbar.Colorbar at 0x7ffb4e7f6bb0>"
      ]
     },
     "execution_count": 40,
     "metadata": {},
     "output_type": "execute_result"
    },
    {
     "data": {
      "image/png": "[encoded data removed]",
      "text/plain": [
       "<Figure size 432x288 with 2 Axes>"
      ]
     },
     "metadata": {
      "needs_background": "light"
     },
     "output_type": "display_data"
    }
   ],
   "source": [
    "import matplotlib.pylab as plt\n",
    "import gdal\n",
    "\n",
    "# get a file\n",
    "doy,year,tiles = 1+10*8,2020,['h11v03']\n",
    "files = get_modis_files(doy,year,tiles,verbose=True,\\\n",
    "                        base_url='https://e4ftl01.cr.usgs.gov/MOTA/')\n",
    "mfiles = find_mcdfiles(year,doy,tiles,'data')\n",
    "data = gdal.Warp(\"\",create_gdal_friendly_names(mfiles,layer='Lai_500m'),\n",
    "            format=\"MEM\",\n",
    "            dstNodata=0).ReadAsArray()\n",
    "plt.imshow(data,interpolation='none')\n",
    "plt.colorbar()"
   ]
  },
  {
   "cell_type": "markdown",
   "metadata": {},
   "source": [
    "## What else?\n",
    "\n",
    "There is a lot more you can do in a notebook. \n",
    "\n",
    "One thing you might explore is the use of [cell magics](https://ipython.readthedocs.io/en/stable/interactive/magics.html) that allow you to all sorts of interesting things.\n",
    "\n",
    "One example is `%%bash`, which allows us to specify [`bash` shells](https://www.gnu.org/software/bash/) ... sometimes, some things are just easier to achieve in one language than another, and it's always good to know more than one way of doing anything.\n"
   ]
  },
  {
   "cell_type": "code",
   "execution_count": 5,
   "metadata": {},
   "outputs": [
    {
     "name": "stdout",
     "output_type": "stream",
     "text": [
      "hello world\n"
     ]
    }
   ],
   "source": [
    "%%bash \n",
    "# my first bash shell\n",
    "string='hello world'\n",
    "echo $string"
   ]
  },
  {
   "cell_type": "markdown",
   "metadata": {},
   "source": [
    "## Summary\n",
    "\n",
    "This notebook is designed mainly as a test that the setup for these notes is working.\n",
    "\n",
    "We have also used it to introduce some features of notebooks, and our very first `python` (and `bash`) codes!"
   ]
  },
  {
   "cell_type": "markdown",
   "metadata": {
    "solution2": "hidden"
   },
   "source": [
    "# Main Heading\n",
    "\n",
    "## equation\n",
    "\n",
    "\\begin{equation*}\n",
    "\\left( \\sum_{k=1}^n a_k b_k \\right)^2 \\leq \\left( \\sum_{k=1}^n a_k^2 \\right) \\left( \\sum_{k=1}^n b_k^2 \\right)\n",
    "\\end{equation*}\n",
    "\n",
    "### link\n",
    "\n",
    "[click me and I will pop up a google search window](https://www.google.com)\n",
    "\n",
    "### table\n",
    "\n",
    "| a | b | c | d | e |\n",
    "|:-:|:-:|:-:|:-:|-|\n",
    "| 🙈 | 💥 | 🦧 | 🐇 | 🐪 |\n",
    "| f | g | h | i | j |\n",
    "| 🙈 | 💥 | 🦧 | 🐇 | 🐪 |\n",
    "\n",
    "### image\n",
    "\n",
    "![ucl logo](images/ucl_logo.png)\n",
    "\n",
    "\n",
    "### html\n",
    "\n",
    "From [https://www.w3schools.com/html/tryit.asp?filename=tryhtml_form_submit](https://www.w3schools.com/html/tryit.asp?filename=tryhtml_form_submit)\n",
    "\n",
    "<html>\n",
    "<body>\n",
    "\n",
    "<h2>HTML Forms</h2>\n",
    "\n",
    "<form action=\"/action_page.php\">\n",
    "  <label for=\"fname\">First name:</label><br>\n",
    "  <input type=\"text\" id=\"fname\" name=\"fname\" value=\"John\"><br>\n",
    "  <label for=\"lname\">Last name:</label><br>\n",
    "  <input type=\"text\" id=\"lname\" name=\"lname\" value=\"Doe\"><br><br>\n",
    "  <input type=\"submit\" value=\"Submit\">\n",
    "</form> \n",
    "\n",
    "<p>If you click the \"Submit\" button, the form-data will be sent to a page called \"/action_page.php\".</p>\n",
    "\n",
    "</body>\n",
    "</html>"
   ]
  }
 ],
 "metadata": {
  "gist": {
   "data": {
    "description": "Chapter0_help.ipynb",
    "public": true
   },
   "id": ""
  },
  "hide_input": false,
  "kernelspec": {
   "display_name": "Python 3",
   "language": "python",
   "name": "python3"
  },
  "language_info": {
   "codemirror_mode": {
    "name": "ipython",
    "version": 3
   },
   "file_extension": ".py",
   "mimetype": "text/x-python",
   "name": "python",
   "nbconvert_exporter": "python",
   "pygments_lexer": "ipython3",
   "version": "3.8.3"
  },
  "latex_envs": {
   "LaTeX_envs_menu_present": true,
   "autocomplete": true,
   "bibliofile": "biblio.bib",
   "cite_by": "apalike",
   "current_citInitial": 1,
   "eqLabelWithNumbers": true,
   "eqNumInitial": 1,
   "hotkeys": {
    "equation": "Ctrl-E",
    "itemize": "Ctrl-I"
   },
   "labels_anchors": false,
   "latex_user_defs": false,
   "report_style_numbering": false,
   "user_envs_cfg": false
  },
  "toc": {
   "base_numbering": "1.1",
   "nav_menu": {},
   "number_sections": false,
   "sideBar": true,
   "skip_h1_title": false,
   "title_cell": "Table of Contents",
   "title_sidebar": "Contents",
   "toc_cell": false,
   "toc_position": {
    "height": "calc(100% - 180px)",
    "left": "10px",
    "top": "150px",
    "width": "207px"
   },
   "toc_section_display": true,
   "toc_window_display": false
  },
  "varInspector": {
   "cols": {
    "lenName": 16,
    "lenType": 16,
    "lenVar": 40
   },
   "kernels_config": {
    "python": {
     "delete_cmd_postfix": "",
     "delete_cmd_prefix": "del ",
     "library": "var_list.py",
     "varRefreshCmd": "print(var_dic_list())"
    },
    "r": {
     "delete_cmd_postfix": ") ",
     "delete_cmd_prefix": "rm(",
     "library": "var_list.r",
     "varRefreshCmd": "cat(var_dic_list()) "
    }
   },
   "types_to_exclude": [
    "module",
    "function",
    "builtin_function_or_method",
    "instance",
    "_Feature"
   ],
   "window_display": false
  }
 },
 "nbformat": 4,
 "nbformat_minor": 1
}
